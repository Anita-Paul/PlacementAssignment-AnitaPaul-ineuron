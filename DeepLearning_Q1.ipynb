{
 "cells": [
  {
   "cell_type": "code",
   "execution_count": 1,
   "id": "fc8b3306",
   "metadata": {},
   "outputs": [],
   "source": [
    "import tensorflow as tf\n",
    "from tensorflow.keras import layers"
   ]
  },
  {
   "cell_type": "code",
   "execution_count": 2,
   "id": "12e9767f",
   "metadata": {},
   "outputs": [],
   "source": [
    "mnist = tf.keras.datasets.mnist"
   ]
  },
  {
   "cell_type": "code",
   "execution_count": 4,
   "id": "b8b3a7e8",
   "metadata": {},
   "outputs": [],
   "source": [
    "(x_train, y_train), (x_test, y_test) = mnist.load_data()"
   ]
  },
  {
   "cell_type": "code",
   "execution_count": 8,
   "id": "92fa4982",
   "metadata": {},
   "outputs": [],
   "source": [
    "num_samples = 9"
   ]
  },
  {
   "cell_type": "code",
   "execution_count": 9,
   "id": "37e8d40c",
   "metadata": {},
   "outputs": [
    {
     "data": {
      "image/png": "[encoded data removed]",
      "text/plain": [
       "<Figure size 720x360 with 9 Axes>"
      ]
     },
     "metadata": {
      "needs_background": "light"
     },
     "output_type": "display_data"
    }
   ],
   "source": [
    "import matplotlib.pyplot as plt\n",
    "plt.figure(figsize=(10, 5))\n",
    "for i in range(num_samples):\n",
    "    plt.subplot(1, num_samples, i+1)\n",
    "    plt.imshow(x_train[i], cmap='gray')\n",
    "    plt.title(f\"Label: {y_train[i]}\")\n",
    "    plt.axis('off')\n",
    "plt.tight_layout()\n",
    "plt.show()"
   ]
  },
  {
   "cell_type": "code",
   "execution_count": 10,
   "id": "9cf9a205",
   "metadata": {},
   "outputs": [],
   "source": [
    "x_train = x_train.reshape(-1, 28, 28, 1).astype(\"float32\") / 255.0\n",
    "x_test = x_test.reshape(-1, 28, 28, 1).astype(\"float32\") / 255.0"
   ]
  },
  {
   "cell_type": "code",
   "execution_count": 11,
   "id": "ef5ff57c",
   "metadata": {},
   "outputs": [],
   "source": [
    "# Model 1: Simple CNN\n",
    "model1 = tf.keras.Sequential([\n",
    "    layers.Conv2D(32, (3, 3), activation='relu', input_shape=(28, 28, 1)),\n",
    "    layers.MaxPooling2D((2, 2)),\n",
    "    layers.Flatten(),\n",
    "    layers.Dense(64, activation='relu'),\n",
    "    layers.Dense(10, activation='softmax')\n",
    "])"
   ]
  },
  {
   "cell_type": "code",
   "execution_count": 12,
   "id": "1f962a4f",
   "metadata": {},
   "outputs": [],
   "source": [
    "# Model 2: LeNet-5\n",
    "model2 = tf.keras.Sequential([\n",
    "    layers.Conv2D(6, (5, 5), activation='relu', input_shape=(28, 28, 1)),\n",
    "    layers.MaxPooling2D((2, 2)),\n",
    "    layers.Conv2D(16, (5, 5), activation='relu'),\n",
    "    layers.MaxPooling2D((2, 2)),\n",
    "    layers.Flatten(),\n",
    "    layers.Dense(120, activation='relu'),\n",
    "    layers.Dense(84, activation='relu'),\n",
    "    layers.Dense(10, activation='softmax')\n",
    "])"
   ]
  },
  {
   "cell_type": "code",
   "execution_count": 13,
   "id": "c7311aff",
   "metadata": {},
   "outputs": [],
   "source": [
    "# Model 3: Custom architecture\n",
    "model3 = tf.keras.Sequential([\n",
    "    layers.Conv2D(16, (3, 3), activation='relu', input_shape=(28, 28, 1)),\n",
    "    layers.MaxPooling2D((2, 2)),\n",
    "    layers.Conv2D(32, (3, 3), activation='relu'),\n",
    "    layers.MaxPooling2D((2, 2)),\n",
    "    layers.Flatten(),\n",
    "    layers.Dense(64, activation='relu'),\n",
    "    layers.Dense(10, activation='softmax')\n",
    "])"
   ]
  },
  {
   "cell_type": "code",
   "execution_count": 14,
   "id": "d2765861",
   "metadata": {},
   "outputs": [],
   "source": [
    "model1.compile(optimizer='adam', loss='sparse_categorical_crossentropy', metrics=['accuracy'])\n",
    "model2.compile(optimizer='adam', loss='sparse_categorical_crossentropy', metrics=['accuracy'])\n",
    "model3.compile(optimizer='adam', loss='sparse_categorical_crossentropy', metrics=['accuracy'])"
   ]
  },
  {
   "cell_type": "code",
   "execution_count": 15,
   "id": "aefd8513",
   "metadata": {},
   "outputs": [
    {
     "name": "stdout",
     "output_type": "stream",
     "text": [
      "313/313 [==============================] - 4s 5ms/step - loss: 2.2844 - accuracy: 0.1146\n",
      "313/313 [==============================] - 2s 4ms/step - loss: 2.3354 - accuracy: 0.0581\n",
      "313/313 [==============================] - 1s 4ms/step - loss: 2.3413 - accuracy: 0.0761\n"
     ]
    }
   ],
   "source": [
    "_, acc1 = model1.evaluate(x_test, y_test)\n",
    "_, acc2 = model2.evaluate(x_test, y_test)\n",
    "_, acc3 = model3.evaluate(x_test, y_test)\n",
    "\n",
    "\"\"\" using the syntax _ to disregard the test loss value and only assign the test accuracy\n",
    "value to the corresponding variables acc1, acc2, and acc3, \n",
    "using _ as a variable name, we are indicating that we are not interested in storing or using the test loss value. \"\"\""
   ]
  },
  {
   "cell_type": "code",
   "execution_count": 16,
   "id": "3a71827d",
   "metadata": {},
   "outputs": [],
   "source": [
    "table = {\n",
    "    'Model': ['Simple CNN', 'LeNet-5', 'Custom Architecture'],\n",
    "    'Accuracy': [acc1, acc2, acc3],\n",
    "    'Number of Parameters': [model1.count_params(), model2.count_params(), model3.count_params()]\n",
    "} \n",
    "#table dictionary provides a convenient data structure to store and organize the results of the different models,\n",
    "#facilitating easy access, comparison, and analysis of the relevant information"
   ]
  },
  {
   "cell_type": "code",
   "execution_count": 17,
   "id": "2845d784",
   "metadata": {},
   "outputs": [
    {
     "name": "stdout",
     "output_type": "stream",
     "text": [
      "\n",
      "Comparison Table:\n",
      "-----------------------------------------------\n",
      "| Model                | Accuracy   | Number of Parameters |\n",
      "-----------------------------------------------\n",
      "| Simple CNN           | 11.46     % | 347146               |\n",
      "| LeNet-5              | 5.81      % | 44426                |\n",
      "| Custom Architecture  | 7.61      % | 56714                |\n",
      "-----------------------------------------------\n"
     ]
    }
   ],
   "source": [
    "print(\"\\nComparison Table:\")\n",
    "print(\"-\" * 47)\n",
    "print(\"| {:<20s} | {:<10s} | {:<20s} |\".format(\"Model\", \"Accuracy\", \"Number of Parameters\"))\n",
    "print(\"-\" * 47)\n",
    "for i in range(len(table['Model'])):\n",
    "    print(\"| {:<20s} | {:<10.2f}% | {:<20d} |\".format(table['Model'][i], table['Accuracy'][i] * 100, table['Number of Parameters'][i]))\n",
    "print(\"-\" * 47)"
   ]
  },
  {
   "cell_type": "code",
   "execution_count": null,
   "id": "ca197f02",
   "metadata": {},
   "outputs": [],
   "source": []
  }
 ],
 "metadata": {
  "kernelspec": {
   "display_name": "Python 3 (ipykernel)",
   "language": "python",
   "name": "python3"
  },
  "language_info": {
   "codemirror_mode": {
    "name": "ipython",
    "version": 3
   },
   "file_extension": ".py",
   "mimetype": "text/x-python",
   "name": "python",
   "nbconvert_exporter": "python",
   "pygments_lexer": "ipython3",
   "version": "3.9.7"
  }
 },
 "nbformat": 4,
 "nbformat_minor": 5
}
