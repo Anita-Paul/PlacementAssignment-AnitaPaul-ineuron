{
 "cells": [
  {
   "cell_type": "code",
   "execution_count": 1,
   "id": "ee18ceca",
   "metadata": {},
   "outputs": [],
   "source": [
    "import numpy as np\n",
    "import pandas as pd \n",
    "import os\n",
    "from sklearn.model_selection import GridSearchCV\n",
    "from xgboost import XGBClassifier\n",
    "from sklearn.tree import DecisionTreeClassifier\n",
    "from sklearn.metrics import roc_auc_score\n",
    "from sklearn.metrics import confusion_matrix\n",
    "from sklearn.model_selection import train_test_split\n",
    "from matplotlib import pyplot as plt\n",
    "import seaborn as sns\n",
    "import gzip"
   ]
  },
  {
   "cell_type": "code",
   "execution_count": 2,
   "id": "cf0484fb",
   "metadata": {},
   "outputs": [],
   "source": [
    "train= pd.read_csv('train_ad-Prediction.gz',nrows=3000)\n",
    "test =pd.read_csv('test_adPrediction.gz',nrows=3000)"
   ]
  },
  {
   "cell_type": "code",
   "execution_count": 3,
   "id": "2f800370",
   "metadata": {},
   "outputs": [],
   "source": [
    "df = pd.concat([train,test]).drop(['id'], axis=1)"
   ]
  },
  {
   "cell_type": "code",
   "execution_count": 4,
   "id": "4897a92a",
   "metadata": {},
   "outputs": [
    {
     "data": {
      "text/html": [
       "<div>\n",
       "<style scoped>\n",
       "    .dataframe tbody tr th:only-of-type {\n",
       "        vertical-align: middle;\n",
       "    }\n",
       "\n",
       "    .dataframe tbody tr th {\n",
       "        vertical-align: top;\n",
       "    }\n",
       "\n",
       "    .dataframe thead th {\n",
       "        text-align: right;\n",
       "    }\n",
       "</style>\n",
       "<table border=\"1\" class=\"dataframe\">\n",
       "  <thead>\n",
       "    <tr style=\"text-align: right;\">\n",
       "      <th></th>\n",
       "      <th>click</th>\n",
       "      <th>hour</th>\n",
       "      <th>C1</th>\n",
       "      <th>banner_pos</th>\n",
       "      <th>site_id</th>\n",
       "      <th>site_domain</th>\n",
       "      <th>site_category</th>\n",
       "      <th>app_id</th>\n",
       "      <th>app_domain</th>\n",
       "      <th>app_category</th>\n",
       "      <th>...</th>\n",
       "      <th>device_type</th>\n",
       "      <th>device_conn_type</th>\n",
       "      <th>C14</th>\n",
       "      <th>C15</th>\n",
       "      <th>C16</th>\n",
       "      <th>C17</th>\n",
       "      <th>C18</th>\n",
       "      <th>C19</th>\n",
       "      <th>C20</th>\n",
       "      <th>C21</th>\n",
       "    </tr>\n",
       "  </thead>\n",
       "  <tbody>\n",
       "    <tr>\n",
       "      <th>0</th>\n",
       "      <td>0.0</td>\n",
       "      <td>14102100</td>\n",
       "      <td>1005</td>\n",
       "      <td>0</td>\n",
       "      <td>1fbe01fe</td>\n",
       "      <td>f3845767</td>\n",
       "      <td>28905ebd</td>\n",
       "      <td>ecad2386</td>\n",
       "      <td>7801e8d9</td>\n",
       "      <td>07d7df22</td>\n",
       "      <td>...</td>\n",
       "      <td>1</td>\n",
       "      <td>2</td>\n",
       "      <td>15706</td>\n",
       "      <td>320</td>\n",
       "      <td>50</td>\n",
       "      <td>1722</td>\n",
       "      <td>0</td>\n",
       "      <td>35</td>\n",
       "      <td>-1</td>\n",
       "      <td>79</td>\n",
       "    </tr>\n",
       "    <tr>\n",
       "      <th>1</th>\n",
       "      <td>0.0</td>\n",
       "      <td>14102100</td>\n",
       "      <td>1005</td>\n",
       "      <td>0</td>\n",
       "      <td>1fbe01fe</td>\n",
       "      <td>f3845767</td>\n",
       "      <td>28905ebd</td>\n",
       "      <td>ecad2386</td>\n",
       "      <td>7801e8d9</td>\n",
       "      <td>07d7df22</td>\n",
       "      <td>...</td>\n",
       "      <td>1</td>\n",
       "      <td>0</td>\n",
       "      <td>15704</td>\n",
       "      <td>320</td>\n",
       "      <td>50</td>\n",
       "      <td>1722</td>\n",
       "      <td>0</td>\n",
       "      <td>35</td>\n",
       "      <td>100084</td>\n",
       "      <td>79</td>\n",
       "    </tr>\n",
       "    <tr>\n",
       "      <th>2</th>\n",
       "      <td>0.0</td>\n",
       "      <td>14102100</td>\n",
       "      <td>1005</td>\n",
       "      <td>0</td>\n",
       "      <td>1fbe01fe</td>\n",
       "      <td>f3845767</td>\n",
       "      <td>28905ebd</td>\n",
       "      <td>ecad2386</td>\n",
       "      <td>7801e8d9</td>\n",
       "      <td>07d7df22</td>\n",
       "      <td>...</td>\n",
       "      <td>1</td>\n",
       "      <td>0</td>\n",
       "      <td>15704</td>\n",
       "      <td>320</td>\n",
       "      <td>50</td>\n",
       "      <td>1722</td>\n",
       "      <td>0</td>\n",
       "      <td>35</td>\n",
       "      <td>100084</td>\n",
       "      <td>79</td>\n",
       "    </tr>\n",
       "    <tr>\n",
       "      <th>3</th>\n",
       "      <td>0.0</td>\n",
       "      <td>14102100</td>\n",
       "      <td>1005</td>\n",
       "      <td>0</td>\n",
       "      <td>1fbe01fe</td>\n",
       "      <td>f3845767</td>\n",
       "      <td>28905ebd</td>\n",
       "      <td>ecad2386</td>\n",
       "      <td>7801e8d9</td>\n",
       "      <td>07d7df22</td>\n",
       "      <td>...</td>\n",
       "      <td>1</td>\n",
       "      <td>0</td>\n",
       "      <td>15706</td>\n",
       "      <td>320</td>\n",
       "      <td>50</td>\n",
       "      <td>1722</td>\n",
       "      <td>0</td>\n",
       "      <td>35</td>\n",
       "      <td>100084</td>\n",
       "      <td>79</td>\n",
       "    </tr>\n",
       "    <tr>\n",
       "      <th>4</th>\n",
       "      <td>0.0</td>\n",
       "      <td>14102100</td>\n",
       "      <td>1005</td>\n",
       "      <td>1</td>\n",
       "      <td>fe8cc448</td>\n",
       "      <td>9166c161</td>\n",
       "      <td>0569f928</td>\n",
       "      <td>ecad2386</td>\n",
       "      <td>7801e8d9</td>\n",
       "      <td>07d7df22</td>\n",
       "      <td>...</td>\n",
       "      <td>1</td>\n",
       "      <td>0</td>\n",
       "      <td>18993</td>\n",
       "      <td>320</td>\n",
       "      <td>50</td>\n",
       "      <td>2161</td>\n",
       "      <td>0</td>\n",
       "      <td>35</td>\n",
       "      <td>-1</td>\n",
       "      <td>157</td>\n",
       "    </tr>\n",
       "  </tbody>\n",
       "</table>\n",
       "<p>5 rows × 23 columns</p>\n",
       "</div>"
      ],
      "text/plain": [
       "   click      hour    C1  banner_pos   site_id site_domain site_category  \\\n",
       "0    0.0  14102100  1005           0  1fbe01fe    f3845767      28905ebd   \n",
       "1    0.0  14102100  1005           0  1fbe01fe    f3845767      28905ebd   \n",
       "2    0.0  14102100  1005           0  1fbe01fe    f3845767      28905ebd   \n",
       "3    0.0  14102100  1005           0  1fbe01fe    f3845767      28905ebd   \n",
       "4    0.0  14102100  1005           1  fe8cc448    9166c161      0569f928   \n",
       "\n",
       "     app_id app_domain app_category  ... device_type device_conn_type    C14  \\\n",
       "0  ecad2386   7801e8d9     07d7df22  ...           1                2  15706   \n",
       "1  ecad2386   7801e8d9     07d7df22  ...           1                0  15704   \n",
       "2  ecad2386   7801e8d9     07d7df22  ...           1                0  15704   \n",
       "3  ecad2386   7801e8d9     07d7df22  ...           1                0  15706   \n",
       "4  ecad2386   7801e8d9     07d7df22  ...           1                0  18993   \n",
       "\n",
       "   C15  C16   C17  C18  C19     C20  C21  \n",
       "0  320   50  1722    0   35      -1   79  \n",
       "1  320   50  1722    0   35  100084   79  \n",
       "2  320   50  1722    0   35  100084   79  \n",
       "3  320   50  1722    0   35  100084   79  \n",
       "4  320   50  2161    0   35      -1  157  \n",
       "\n",
       "[5 rows x 23 columns]"
      ]
     },
     "execution_count": 4,
     "metadata": {},
     "output_type": "execute_result"
    }
   ],
   "source": [
    "df.head(5)"
   ]
  },
  {
   "cell_type": "code",
   "execution_count": 5,
   "id": "1096f295",
   "metadata": {},
   "outputs": [
    {
     "data": {
      "text/html": [
       "<div>\n",
       "<style scoped>\n",
       "    .dataframe tbody tr th:only-of-type {\n",
       "        vertical-align: middle;\n",
       "    }\n",
       "\n",
       "    .dataframe tbody tr th {\n",
       "        vertical-align: top;\n",
       "    }\n",
       "\n",
       "    .dataframe thead th {\n",
       "        text-align: right;\n",
       "    }\n",
       "</style>\n",
       "<table border=\"1\" class=\"dataframe\">\n",
       "  <thead>\n",
       "    <tr style=\"text-align: right;\">\n",
       "      <th></th>\n",
       "      <th>click</th>\n",
       "      <th>hour</th>\n",
       "      <th>C1</th>\n",
       "      <th>banner_pos</th>\n",
       "      <th>site_id</th>\n",
       "      <th>site_domain</th>\n",
       "      <th>site_category</th>\n",
       "      <th>app_id</th>\n",
       "      <th>app_domain</th>\n",
       "      <th>app_category</th>\n",
       "      <th>...</th>\n",
       "      <th>device_type</th>\n",
       "      <th>device_conn_type</th>\n",
       "      <th>C14</th>\n",
       "      <th>C15</th>\n",
       "      <th>C16</th>\n",
       "      <th>C17</th>\n",
       "      <th>C18</th>\n",
       "      <th>C19</th>\n",
       "      <th>C20</th>\n",
       "      <th>C21</th>\n",
       "    </tr>\n",
       "  </thead>\n",
       "  <tbody>\n",
       "    <tr>\n",
       "      <th>2995</th>\n",
       "      <td>NaN</td>\n",
       "      <td>14103100</td>\n",
       "      <td>1005</td>\n",
       "      <td>0</td>\n",
       "      <td>1fbe01fe</td>\n",
       "      <td>f3845767</td>\n",
       "      <td>28905ebd</td>\n",
       "      <td>ecad2386</td>\n",
       "      <td>7801e8d9</td>\n",
       "      <td>07d7df22</td>\n",
       "      <td>...</td>\n",
       "      <td>1</td>\n",
       "      <td>0</td>\n",
       "      <td>22676</td>\n",
       "      <td>320</td>\n",
       "      <td>50</td>\n",
       "      <td>2616</td>\n",
       "      <td>0</td>\n",
       "      <td>35</td>\n",
       "      <td>-1</td>\n",
       "      <td>51</td>\n",
       "    </tr>\n",
       "    <tr>\n",
       "      <th>2996</th>\n",
       "      <td>NaN</td>\n",
       "      <td>14103100</td>\n",
       "      <td>1012</td>\n",
       "      <td>1</td>\n",
       "      <td>c52338a7</td>\n",
       "      <td>c4e18dd6</td>\n",
       "      <td>dedf689d</td>\n",
       "      <td>ecad2386</td>\n",
       "      <td>7801e8d9</td>\n",
       "      <td>07d7df22</td>\n",
       "      <td>...</td>\n",
       "      <td>1</td>\n",
       "      <td>0</td>\n",
       "      <td>23722</td>\n",
       "      <td>320</td>\n",
       "      <td>50</td>\n",
       "      <td>2716</td>\n",
       "      <td>3</td>\n",
       "      <td>47</td>\n",
       "      <td>-1</td>\n",
       "      <td>23</td>\n",
       "    </tr>\n",
       "    <tr>\n",
       "      <th>2997</th>\n",
       "      <td>NaN</td>\n",
       "      <td>14103100</td>\n",
       "      <td>1005</td>\n",
       "      <td>0</td>\n",
       "      <td>85f751fd</td>\n",
       "      <td>c4e18dd6</td>\n",
       "      <td>50e219e0</td>\n",
       "      <td>3c4b944d</td>\n",
       "      <td>2347f47a</td>\n",
       "      <td>0f2161f8</td>\n",
       "      <td>...</td>\n",
       "      <td>1</td>\n",
       "      <td>2</td>\n",
       "      <td>18987</td>\n",
       "      <td>320</td>\n",
       "      <td>50</td>\n",
       "      <td>2158</td>\n",
       "      <td>3</td>\n",
       "      <td>291</td>\n",
       "      <td>-1</td>\n",
       "      <td>61</td>\n",
       "    </tr>\n",
       "    <tr>\n",
       "      <th>2998</th>\n",
       "      <td>NaN</td>\n",
       "      <td>14103100</td>\n",
       "      <td>1005</td>\n",
       "      <td>1</td>\n",
       "      <td>85f751fd</td>\n",
       "      <td>c4e18dd6</td>\n",
       "      <td>50e219e0</td>\n",
       "      <td>cf0327f9</td>\n",
       "      <td>2347f47a</td>\n",
       "      <td>0f2161f8</td>\n",
       "      <td>...</td>\n",
       "      <td>1</td>\n",
       "      <td>0</td>\n",
       "      <td>23646</td>\n",
       "      <td>300</td>\n",
       "      <td>50</td>\n",
       "      <td>2709</td>\n",
       "      <td>3</td>\n",
       "      <td>39</td>\n",
       "      <td>100013</td>\n",
       "      <td>23</td>\n",
       "    </tr>\n",
       "    <tr>\n",
       "      <th>2999</th>\n",
       "      <td>NaN</td>\n",
       "      <td>14103100</td>\n",
       "      <td>1005</td>\n",
       "      <td>0</td>\n",
       "      <td>85f751fd</td>\n",
       "      <td>c4e18dd6</td>\n",
       "      <td>50e219e0</td>\n",
       "      <td>08b5f605</td>\n",
       "      <td>33da2e74</td>\n",
       "      <td>dc97ec06</td>\n",
       "      <td>...</td>\n",
       "      <td>1</td>\n",
       "      <td>0</td>\n",
       "      <td>20153</td>\n",
       "      <td>320</td>\n",
       "      <td>50</td>\n",
       "      <td>2307</td>\n",
       "      <td>3</td>\n",
       "      <td>163</td>\n",
       "      <td>100020</td>\n",
       "      <td>61</td>\n",
       "    </tr>\n",
       "  </tbody>\n",
       "</table>\n",
       "<p>5 rows × 23 columns</p>\n",
       "</div>"
      ],
      "text/plain": [
       "      click      hour    C1  banner_pos   site_id site_domain site_category  \\\n",
       "2995    NaN  14103100  1005           0  1fbe01fe    f3845767      28905ebd   \n",
       "2996    NaN  14103100  1012           1  c52338a7    c4e18dd6      dedf689d   \n",
       "2997    NaN  14103100  1005           0  85f751fd    c4e18dd6      50e219e0   \n",
       "2998    NaN  14103100  1005           1  85f751fd    c4e18dd6      50e219e0   \n",
       "2999    NaN  14103100  1005           0  85f751fd    c4e18dd6      50e219e0   \n",
       "\n",
       "        app_id app_domain app_category  ... device_type device_conn_type  \\\n",
       "2995  ecad2386   7801e8d9     07d7df22  ...           1                0   \n",
       "2996  ecad2386   7801e8d9     07d7df22  ...           1                0   \n",
       "2997  3c4b944d   2347f47a     0f2161f8  ...           1                2   \n",
       "2998  cf0327f9   2347f47a     0f2161f8  ...           1                0   \n",
       "2999  08b5f605   33da2e74     dc97ec06  ...           1                0   \n",
       "\n",
       "        C14  C15  C16   C17  C18  C19     C20  C21  \n",
       "2995  22676  320   50  2616    0   35      -1   51  \n",
       "2996  23722  320   50  2716    3   47      -1   23  \n",
       "2997  18987  320   50  2158    3  291      -1   61  \n",
       "2998  23646  300   50  2709    3   39  100013   23  \n",
       "2999  20153  320   50  2307    3  163  100020   61  \n",
       "\n",
       "[5 rows x 23 columns]"
      ]
     },
     "execution_count": 5,
     "metadata": {},
     "output_type": "execute_result"
    }
   ],
   "source": [
    "df.tail(5)"
   ]
  },
  {
   "cell_type": "code",
   "execution_count": 6,
   "id": "c15f571f",
   "metadata": {},
   "outputs": [
    {
     "name": "stdout",
     "output_type": "stream",
     "text": [
      "<class 'pandas.core.frame.DataFrame'>\n",
      "Int64Index: 6000 entries, 0 to 2999\n",
      "Data columns (total 23 columns):\n",
      " #   Column            Non-Null Count  Dtype  \n",
      "---  ------            --------------  -----  \n",
      " 0   click             3000 non-null   float64\n",
      " 1   hour              6000 non-null   int64  \n",
      " 2   C1                6000 non-null   int64  \n",
      " 3   banner_pos        6000 non-null   int64  \n",
      " 4   site_id           6000 non-null   object \n",
      " 5   site_domain       6000 non-null   object \n",
      " 6   site_category     6000 non-null   object \n",
      " 7   app_id            6000 non-null   object \n",
      " 8   app_domain        6000 non-null   object \n",
      " 9   app_category      6000 non-null   object \n",
      " 10  device_id         6000 non-null   object \n",
      " 11  device_ip         6000 non-null   object \n",
      " 12  device_model      6000 non-null   object \n",
      " 13  device_type       6000 non-null   int64  \n",
      " 14  device_conn_type  6000 non-null   int64  \n",
      " 15  C14               6000 non-null   int64  \n",
      " 16  C15               6000 non-null   int64  \n",
      " 17  C16               6000 non-null   int64  \n",
      " 18  C17               6000 non-null   int64  \n",
      " 19  C18               6000 non-null   int64  \n",
      " 20  C19               6000 non-null   int64  \n",
      " 21  C20               6000 non-null   int64  \n",
      " 22  C21               6000 non-null   int64  \n",
      "dtypes: float64(1), int64(13), object(9)\n",
      "memory usage: 1.1+ MB\n"
     ]
    }
   ],
   "source": [
    "df.info()"
   ]
  },
  {
   "cell_type": "code",
   "execution_count": 7,
   "id": "fb5ff956",
   "metadata": {},
   "outputs": [
    {
     "data": {
      "text/plain": [
       "Index(['click', 'hour', 'C1', 'banner_pos', 'site_id', 'site_domain',\n",
       "       'site_category', 'app_id', 'app_domain', 'app_category', 'device_id',\n",
       "       'device_ip', 'device_model', 'device_type', 'device_conn_type', 'C14',\n",
       "       'C15', 'C16', 'C17', 'C18', 'C19', 'C20', 'C21'],\n",
       "      dtype='object')"
      ]
     },
     "execution_count": 7,
     "metadata": {},
     "output_type": "execute_result"
    }
   ],
   "source": [
    "df.columns"
   ]
  },
  {
   "cell_type": "code",
   "execution_count": 8,
   "id": "4daf1301",
   "metadata": {},
   "outputs": [
    {
     "data": {
      "text/plain": [
       "click               3000\n",
       "hour                   0\n",
       "C1                     0\n",
       "banner_pos             0\n",
       "site_id                0\n",
       "site_domain            0\n",
       "site_category          0\n",
       "app_id                 0\n",
       "app_domain             0\n",
       "app_category           0\n",
       "device_id              0\n",
       "device_ip              0\n",
       "device_model           0\n",
       "device_type            0\n",
       "device_conn_type       0\n",
       "C14                    0\n",
       "C15                    0\n",
       "C16                    0\n",
       "C17                    0\n",
       "C18                    0\n",
       "C19                    0\n",
       "C20                    0\n",
       "C21                    0\n",
       "dtype: int64"
      ]
     },
     "execution_count": 8,
     "metadata": {},
     "output_type": "execute_result"
    }
   ],
   "source": [
    "df.isnull().sum()"
   ]
  },
  {
   "cell_type": "code",
   "execution_count": 9,
   "id": "25f4369b",
   "metadata": {},
   "outputs": [
    {
     "data": {
      "text/html": [
       "<div>\n",
       "<style scoped>\n",
       "    .dataframe tbody tr th:only-of-type {\n",
       "        vertical-align: middle;\n",
       "    }\n",
       "\n",
       "    .dataframe tbody tr th {\n",
       "        vertical-align: top;\n",
       "    }\n",
       "\n",
       "    .dataframe thead th {\n",
       "        text-align: right;\n",
       "    }\n",
       "</style>\n",
       "<table border=\"1\" class=\"dataframe\">\n",
       "  <thead>\n",
       "    <tr style=\"text-align: right;\">\n",
       "      <th></th>\n",
       "      <th>click</th>\n",
       "      <th>hour</th>\n",
       "      <th>C1</th>\n",
       "      <th>banner_pos</th>\n",
       "      <th>device_type</th>\n",
       "      <th>device_conn_type</th>\n",
       "      <th>C14</th>\n",
       "      <th>C15</th>\n",
       "      <th>C16</th>\n",
       "      <th>C17</th>\n",
       "      <th>C18</th>\n",
       "      <th>C19</th>\n",
       "      <th>C20</th>\n",
       "      <th>C21</th>\n",
       "    </tr>\n",
       "  </thead>\n",
       "  <tbody>\n",
       "    <tr>\n",
       "      <th>count</th>\n",
       "      <td>3000.000000</td>\n",
       "      <td>6.000000e+03</td>\n",
       "      <td>6000.000000</td>\n",
       "      <td>6000.000000</td>\n",
       "      <td>6000.000000</td>\n",
       "      <td>6000.000000</td>\n",
       "      <td>6000.000000</td>\n",
       "      <td>6000.000000</td>\n",
       "      <td>6000.000000</td>\n",
       "      <td>6000.000000</td>\n",
       "      <td>6000.000000</td>\n",
       "      <td>6000.000000</td>\n",
       "      <td>6000.000000</td>\n",
       "      <td>6000.000000</td>\n",
       "    </tr>\n",
       "    <tr>\n",
       "      <th>mean</th>\n",
       "      <td>0.164000</td>\n",
       "      <td>1.410260e+07</td>\n",
       "      <td>1005.029833</td>\n",
       "      <td>0.183167</td>\n",
       "      <td>1.025667</td>\n",
       "      <td>0.300333</td>\n",
       "      <td>19397.441500</td>\n",
       "      <td>318.823333</td>\n",
       "      <td>58.581333</td>\n",
       "      <td>2181.862500</td>\n",
       "      <td>0.991000</td>\n",
       "      <td>157.244000</td>\n",
       "      <td>45533.459667</td>\n",
       "      <td>94.844833</td>\n",
       "    </tr>\n",
       "    <tr>\n",
       "      <th>std</th>\n",
       "      <td>0.370337</td>\n",
       "      <td>5.000417e+02</td>\n",
       "      <td>1.029621</td>\n",
       "      <td>0.432798</td>\n",
       "      <td>0.469444</td>\n",
       "      <td>0.796600</td>\n",
       "      <td>3916.784501</td>\n",
       "      <td>13.299709</td>\n",
       "      <td>41.859138</td>\n",
       "      <td>490.118661</td>\n",
       "      <td>1.314866</td>\n",
       "      <td>251.133656</td>\n",
       "      <td>49855.720418</td>\n",
       "      <td>69.636920</td>\n",
       "    </tr>\n",
       "    <tr>\n",
       "      <th>min</th>\n",
       "      <td>0.000000</td>\n",
       "      <td>1.410210e+07</td>\n",
       "      <td>1001.000000</td>\n",
       "      <td>0.000000</td>\n",
       "      <td>0.000000</td>\n",
       "      <td>0.000000</td>\n",
       "      <td>375.000000</td>\n",
       "      <td>216.000000</td>\n",
       "      <td>36.000000</td>\n",
       "      <td>112.000000</td>\n",
       "      <td>0.000000</td>\n",
       "      <td>33.000000</td>\n",
       "      <td>-1.000000</td>\n",
       "      <td>13.000000</td>\n",
       "    </tr>\n",
       "    <tr>\n",
       "      <th>25%</th>\n",
       "      <td>0.000000</td>\n",
       "      <td>1.410210e+07</td>\n",
       "      <td>1005.000000</td>\n",
       "      <td>0.000000</td>\n",
       "      <td>1.000000</td>\n",
       "      <td>0.000000</td>\n",
       "      <td>15708.000000</td>\n",
       "      <td>320.000000</td>\n",
       "      <td>50.000000</td>\n",
       "      <td>1722.000000</td>\n",
       "      <td>0.000000</td>\n",
       "      <td>35.000000</td>\n",
       "      <td>-1.000000</td>\n",
       "      <td>46.000000</td>\n",
       "    </tr>\n",
       "    <tr>\n",
       "      <th>50%</th>\n",
       "      <td>0.000000</td>\n",
       "      <td>1.410260e+07</td>\n",
       "      <td>1005.000000</td>\n",
       "      <td>0.000000</td>\n",
       "      <td>1.000000</td>\n",
       "      <td>0.000000</td>\n",
       "      <td>20362.000000</td>\n",
       "      <td>320.000000</td>\n",
       "      <td>50.000000</td>\n",
       "      <td>2307.000000</td>\n",
       "      <td>0.000000</td>\n",
       "      <td>39.000000</td>\n",
       "      <td>-1.000000</td>\n",
       "      <td>79.000000</td>\n",
       "    </tr>\n",
       "    <tr>\n",
       "      <th>75%</th>\n",
       "      <td>0.000000</td>\n",
       "      <td>1.410310e+07</td>\n",
       "      <td>1005.000000</td>\n",
       "      <td>0.000000</td>\n",
       "      <td>1.000000</td>\n",
       "      <td>0.000000</td>\n",
       "      <td>22676.000000</td>\n",
       "      <td>320.000000</td>\n",
       "      <td>50.000000</td>\n",
       "      <td>2616.000000</td>\n",
       "      <td>2.000000</td>\n",
       "      <td>167.000000</td>\n",
       "      <td>100084.000000</td>\n",
       "      <td>157.000000</td>\n",
       "    </tr>\n",
       "    <tr>\n",
       "      <th>max</th>\n",
       "      <td>1.000000</td>\n",
       "      <td>1.410310e+07</td>\n",
       "      <td>1012.000000</td>\n",
       "      <td>7.000000</td>\n",
       "      <td>5.000000</td>\n",
       "      <td>5.000000</td>\n",
       "      <td>24043.000000</td>\n",
       "      <td>728.000000</td>\n",
       "      <td>480.000000</td>\n",
       "      <td>2757.000000</td>\n",
       "      <td>3.000000</td>\n",
       "      <td>1835.000000</td>\n",
       "      <td>100248.000000</td>\n",
       "      <td>253.000000</td>\n",
       "    </tr>\n",
       "  </tbody>\n",
       "</table>\n",
       "</div>"
      ],
      "text/plain": [
       "             click          hour           C1   banner_pos  device_type  \\\n",
       "count  3000.000000  6.000000e+03  6000.000000  6000.000000  6000.000000   \n",
       "mean      0.164000  1.410260e+07  1005.029833     0.183167     1.025667   \n",
       "std       0.370337  5.000417e+02     1.029621     0.432798     0.469444   \n",
       "min       0.000000  1.410210e+07  1001.000000     0.000000     0.000000   \n",
       "25%       0.000000  1.410210e+07  1005.000000     0.000000     1.000000   \n",
       "50%       0.000000  1.410260e+07  1005.000000     0.000000     1.000000   \n",
       "75%       0.000000  1.410310e+07  1005.000000     0.000000     1.000000   \n",
       "max       1.000000  1.410310e+07  1012.000000     7.000000     5.000000   \n",
       "\n",
       "       device_conn_type           C14          C15          C16          C17  \\\n",
       "count       6000.000000   6000.000000  6000.000000  6000.000000  6000.000000   \n",
       "mean           0.300333  19397.441500   318.823333    58.581333  2181.862500   \n",
       "std            0.796600   3916.784501    13.299709    41.859138   490.118661   \n",
       "min            0.000000    375.000000   216.000000    36.000000   112.000000   \n",
       "25%            0.000000  15708.000000   320.000000    50.000000  1722.000000   \n",
       "50%            0.000000  20362.000000   320.000000    50.000000  2307.000000   \n",
       "75%            0.000000  22676.000000   320.000000    50.000000  2616.000000   \n",
       "max            5.000000  24043.000000   728.000000   480.000000  2757.000000   \n",
       "\n",
       "               C18          C19            C20          C21  \n",
       "count  6000.000000  6000.000000    6000.000000  6000.000000  \n",
       "mean      0.991000   157.244000   45533.459667    94.844833  \n",
       "std       1.314866   251.133656   49855.720418    69.636920  \n",
       "min       0.000000    33.000000      -1.000000    13.000000  \n",
       "25%       0.000000    35.000000      -1.000000    46.000000  \n",
       "50%       0.000000    39.000000      -1.000000    79.000000  \n",
       "75%       2.000000   167.000000  100084.000000   157.000000  \n",
       "max       3.000000  1835.000000  100248.000000   253.000000  "
      ]
     },
     "execution_count": 9,
     "metadata": {},
     "output_type": "execute_result"
    }
   ],
   "source": [
    "df.describe()"
   ]
  },
  {
   "cell_type": "code",
   "execution_count": 10,
   "id": "75f8561b",
   "metadata": {},
   "outputs": [
    {
     "data": {
      "text/plain": [
       "0       False\n",
       "1       False\n",
       "2       False\n",
       "3       False\n",
       "4       False\n",
       "        ...  \n",
       "2995    False\n",
       "2996     True\n",
       "2997     True\n",
       "2998     True\n",
       "2999    False\n",
       "Length: 6000, dtype: bool"
      ]
     },
     "execution_count": 10,
     "metadata": {},
     "output_type": "execute_result"
    }
   ],
   "source": [
    "df.duplicated()"
   ]
  },
  {
   "cell_type": "code",
   "execution_count": 11,
   "id": "c76096c6",
   "metadata": {},
   "outputs": [],
   "source": [
    "def get_date(hour):\n",
    "    y = '20'+str(hour)[:2]\n",
    "    m = str(hour)[2:4]\n",
    "    d = str(hour)[4:6]\n",
    "    return y+'-'+m+'-'+d\n",
    "\n",
    "df['weekday'] = pd.to_datetime(df.hour.apply(get_date)).dt.dayofweek.astype(str)\n",
    "\n",
    "def tran_hour(x):\n",
    "    x = x % 100\n",
    "    while x in [23,0]:\n",
    "        return '23-01'\n",
    "    while x in [1,2]:\n",
    "        return '01-03'\n",
    "    while x in [3,4]:\n",
    "        return '03-05'\n",
    "    while x in [5,6]:\n",
    "        return '05-07'\n",
    "    while x in [7,8]:\n",
    "        return '07-09'\n",
    "    while x in [9,10]:\n",
    "        return '09-11'\n",
    "    while x in [11,12]:\n",
    "        return '11-13'\n",
    "    while x in [13,14]:\n",
    "        return '13-15'\n",
    "    while x in [15,16]:\n",
    "        return '15-17'\n",
    "    while x in [17,18]:\n",
    "        return '17-19'\n",
    "    while x in [19,20]:\n",
    "        return '19-21'\n",
    "    while x in [21,22]:\n",
    "        return '21-23'\n",
    "\n",
    "df['hour'] = df.hour.apply(tran_hour)"
   ]
  },
  {
   "cell_type": "code",
   "execution_count": 12,
   "id": "a98f9a23",
   "metadata": {},
   "outputs": [
    {
     "name": "stdout",
     "output_type": "stream",
     "text": [
      "C1 : 6\n",
      "banner_pos : 5\n",
      "site_id : 314\n",
      "site_domain : 261\n",
      "site_category : 15\n",
      "app_id : 249\n",
      "app_domain : 27\n",
      "app_category : 11\n",
      "device_id : 742\n",
      "device_ip : 5038\n",
      "device_model : 973\n",
      "device_type : 4\n",
      "device_conn_type : 4\n",
      "C14 : 423\n",
      "C15 : 5\n",
      "C16 : 6\n",
      "C17 : 164\n",
      "C18 : 4\n",
      "C19 : 45\n",
      "C20 : 101\n",
      "C21 : 34\n"
     ]
    }
   ],
   "source": [
    "len_of_feature_count = []\n",
    "for i in df.columns[2:23].tolist():\n",
    "    print(i, ':', len(df[i].astype(str).value_counts()))\n",
    "    len_of_feature_count.append(len(df[i].astype(str).value_counts()))"
   ]
  },
  {
   "cell_type": "code",
   "execution_count": 13,
   "id": "877fcb65",
   "metadata": {},
   "outputs": [],
   "source": [
    "need_tran_feature = df.columns[2:4].tolist() + df.columns[13:23].tolist()\n",
    "\n",
    "for i in need_tran_feature:\n",
    "    df[i] = df[i].astype(str)"
   ]
  },
  {
   "cell_type": "code",
   "execution_count": 14,
   "id": "88d4f3e3",
   "metadata": {},
   "outputs": [
    {
     "data": {
      "text/plain": [
       "['site_id',\n",
       " 'site_domain',\n",
       " 'site_category',\n",
       " 'app_id',\n",
       " 'app_domain',\n",
       " 'app_category',\n",
       " 'device_id',\n",
       " 'device_ip',\n",
       " 'device_model',\n",
       " 'C14',\n",
       " 'C17',\n",
       " 'C19',\n",
       " 'C20',\n",
       " 'C21']"
      ]
     },
     "execution_count": 14,
     "metadata": {},
     "output_type": "execute_result"
    }
   ],
   "source": [
    "obj_features = []\n",
    "\n",
    "for i in range(len(len_of_feature_count)):\n",
    "    if len_of_feature_count[i] > 10:\n",
    "        obj_features.append(df.columns[2:23].tolist()[i])\n",
    "obj_features"
   ]
  },
  {
   "cell_type": "code",
   "execution_count": 15,
   "id": "e4cf0ef3",
   "metadata": {},
   "outputs": [
    {
     "data": {
      "text/html": [
       "<div>\n",
       "<style scoped>\n",
       "    .dataframe tbody tr th:only-of-type {\n",
       "        vertical-align: middle;\n",
       "    }\n",
       "\n",
       "    .dataframe tbody tr th {\n",
       "        vertical-align: top;\n",
       "    }\n",
       "\n",
       "    .dataframe thead th {\n",
       "        text-align: right;\n",
       "    }\n",
       "</style>\n",
       "<table border=\"1\" class=\"dataframe\">\n",
       "  <thead>\n",
       "    <tr style=\"text-align: right;\">\n",
       "      <th></th>\n",
       "      <th>click</th>\n",
       "    </tr>\n",
       "  </thead>\n",
       "  <tbody>\n",
       "    <tr>\n",
       "      <th>count</th>\n",
       "      <td>3000.000000</td>\n",
       "    </tr>\n",
       "    <tr>\n",
       "      <th>mean</th>\n",
       "      <td>0.164000</td>\n",
       "    </tr>\n",
       "    <tr>\n",
       "      <th>std</th>\n",
       "      <td>0.370337</td>\n",
       "    </tr>\n",
       "    <tr>\n",
       "      <th>min</th>\n",
       "      <td>0.000000</td>\n",
       "    </tr>\n",
       "    <tr>\n",
       "      <th>25%</th>\n",
       "      <td>0.000000</td>\n",
       "    </tr>\n",
       "    <tr>\n",
       "      <th>50%</th>\n",
       "      <td>0.000000</td>\n",
       "    </tr>\n",
       "    <tr>\n",
       "      <th>75%</th>\n",
       "      <td>0.000000</td>\n",
       "    </tr>\n",
       "    <tr>\n",
       "      <th>max</th>\n",
       "      <td>1.000000</td>\n",
       "    </tr>\n",
       "  </tbody>\n",
       "</table>\n",
       "</div>"
      ],
      "text/plain": [
       "             click\n",
       "count  3000.000000\n",
       "mean      0.164000\n",
       "std       0.370337\n",
       "min       0.000000\n",
       "25%       0.000000\n",
       "50%       0.000000\n",
       "75%       0.000000\n",
       "max       1.000000"
      ]
     },
     "execution_count": 15,
     "metadata": {},
     "output_type": "execute_result"
    }
   ],
   "source": [
    "df_describe = df.describe()\n",
    "df_describe"
   ]
  },
  {
   "cell_type": "code",
   "execution_count": 16,
   "id": "0708abbc",
   "metadata": {},
   "outputs": [],
   "source": [
    "df_describe = df.describe()"
   ]
  },
  {
   "cell_type": "code",
   "execution_count": 17,
   "id": "15cd57cd",
   "metadata": {},
   "outputs": [
    {
     "name": "stdout",
     "output_type": "stream",
     "text": [
      "Run: site_id\n",
      "Run: site_domain\n",
      "Run: site_category\n",
      "Run: app_id\n",
      "Run: app_domain\n",
      "Run: app_category\n",
      "Run: device_id\n",
      "Run: device_ip\n",
      "Run: device_model\n",
      "Run: C14\n",
      "Run: C17\n",
      "Run: C19\n",
      "Run: C20\n",
      "Run: C21\n"
     ]
    },
    {
     "data": {
      "text/html": [
       "<div>\n",
       "<style scoped>\n",
       "    .dataframe tbody tr th:only-of-type {\n",
       "        vertical-align: middle;\n",
       "    }\n",
       "\n",
       "    .dataframe tbody tr th {\n",
       "        vertical-align: top;\n",
       "    }\n",
       "\n",
       "    .dataframe thead th {\n",
       "        text-align: right;\n",
       "    }\n",
       "</style>\n",
       "<table border=\"1\" class=\"dataframe\">\n",
       "  <thead>\n",
       "    <tr style=\"text-align: right;\">\n",
       "      <th></th>\n",
       "      <th>click</th>\n",
       "      <th>hour</th>\n",
       "      <th>C1</th>\n",
       "      <th>banner_pos</th>\n",
       "      <th>site_id</th>\n",
       "      <th>site_domain</th>\n",
       "      <th>site_category</th>\n",
       "      <th>app_id</th>\n",
       "      <th>app_domain</th>\n",
       "      <th>app_category</th>\n",
       "      <th>...</th>\n",
       "      <th>device_conn_type</th>\n",
       "      <th>C14</th>\n",
       "      <th>C15</th>\n",
       "      <th>C16</th>\n",
       "      <th>C17</th>\n",
       "      <th>C18</th>\n",
       "      <th>C19</th>\n",
       "      <th>C20</th>\n",
       "      <th>C21</th>\n",
       "      <th>weekday</th>\n",
       "    </tr>\n",
       "  </thead>\n",
       "  <tbody>\n",
       "    <tr>\n",
       "      <th>0</th>\n",
       "      <td>0.0</td>\n",
       "      <td>23-01</td>\n",
       "      <td>1005</td>\n",
       "      <td>0</td>\n",
       "      <td>higher</td>\n",
       "      <td>higher</td>\n",
       "      <td>higher</td>\n",
       "      <td>mid</td>\n",
       "      <td>mid</td>\n",
       "      <td>mid</td>\n",
       "      <td>...</td>\n",
       "      <td>2</td>\n",
       "      <td>mid</td>\n",
       "      <td>320</td>\n",
       "      <td>50</td>\n",
       "      <td>mid</td>\n",
       "      <td>0</td>\n",
       "      <td>mid</td>\n",
       "      <td>mid</td>\n",
       "      <td>mid</td>\n",
       "      <td>1</td>\n",
       "    </tr>\n",
       "    <tr>\n",
       "      <th>1</th>\n",
       "      <td>0.0</td>\n",
       "      <td>23-01</td>\n",
       "      <td>1005</td>\n",
       "      <td>0</td>\n",
       "      <td>higher</td>\n",
       "      <td>higher</td>\n",
       "      <td>higher</td>\n",
       "      <td>mid</td>\n",
       "      <td>mid</td>\n",
       "      <td>mid</td>\n",
       "      <td>...</td>\n",
       "      <td>0</td>\n",
       "      <td>mid</td>\n",
       "      <td>320</td>\n",
       "      <td>50</td>\n",
       "      <td>mid</td>\n",
       "      <td>0</td>\n",
       "      <td>mid</td>\n",
       "      <td>mid</td>\n",
       "      <td>mid</td>\n",
       "      <td>1</td>\n",
       "    </tr>\n",
       "    <tr>\n",
       "      <th>2</th>\n",
       "      <td>0.0</td>\n",
       "      <td>23-01</td>\n",
       "      <td>1005</td>\n",
       "      <td>0</td>\n",
       "      <td>higher</td>\n",
       "      <td>higher</td>\n",
       "      <td>higher</td>\n",
       "      <td>mid</td>\n",
       "      <td>mid</td>\n",
       "      <td>mid</td>\n",
       "      <td>...</td>\n",
       "      <td>0</td>\n",
       "      <td>mid</td>\n",
       "      <td>320</td>\n",
       "      <td>50</td>\n",
       "      <td>mid</td>\n",
       "      <td>0</td>\n",
       "      <td>mid</td>\n",
       "      <td>mid</td>\n",
       "      <td>mid</td>\n",
       "      <td>1</td>\n",
       "    </tr>\n",
       "    <tr>\n",
       "      <th>3</th>\n",
       "      <td>0.0</td>\n",
       "      <td>23-01</td>\n",
       "      <td>1005</td>\n",
       "      <td>0</td>\n",
       "      <td>higher</td>\n",
       "      <td>higher</td>\n",
       "      <td>higher</td>\n",
       "      <td>mid</td>\n",
       "      <td>mid</td>\n",
       "      <td>mid</td>\n",
       "      <td>...</td>\n",
       "      <td>0</td>\n",
       "      <td>mid</td>\n",
       "      <td>320</td>\n",
       "      <td>50</td>\n",
       "      <td>mid</td>\n",
       "      <td>0</td>\n",
       "      <td>mid</td>\n",
       "      <td>mid</td>\n",
       "      <td>mid</td>\n",
       "      <td>1</td>\n",
       "    </tr>\n",
       "    <tr>\n",
       "      <th>4</th>\n",
       "      <td>0.0</td>\n",
       "      <td>23-01</td>\n",
       "      <td>1005</td>\n",
       "      <td>1</td>\n",
       "      <td>very_low</td>\n",
       "      <td>very_low</td>\n",
       "      <td>very_low</td>\n",
       "      <td>mid</td>\n",
       "      <td>mid</td>\n",
       "      <td>mid</td>\n",
       "      <td>...</td>\n",
       "      <td>0</td>\n",
       "      <td>mid</td>\n",
       "      <td>320</td>\n",
       "      <td>50</td>\n",
       "      <td>mid</td>\n",
       "      <td>0</td>\n",
       "      <td>mid</td>\n",
       "      <td>mid</td>\n",
       "      <td>mid</td>\n",
       "      <td>1</td>\n",
       "    </tr>\n",
       "    <tr>\n",
       "      <th>...</th>\n",
       "      <td>...</td>\n",
       "      <td>...</td>\n",
       "      <td>...</td>\n",
       "      <td>...</td>\n",
       "      <td>...</td>\n",
       "      <td>...</td>\n",
       "      <td>...</td>\n",
       "      <td>...</td>\n",
       "      <td>...</td>\n",
       "      <td>...</td>\n",
       "      <td>...</td>\n",
       "      <td>...</td>\n",
       "      <td>...</td>\n",
       "      <td>...</td>\n",
       "      <td>...</td>\n",
       "      <td>...</td>\n",
       "      <td>...</td>\n",
       "      <td>...</td>\n",
       "      <td>...</td>\n",
       "      <td>...</td>\n",
       "      <td>...</td>\n",
       "    </tr>\n",
       "    <tr>\n",
       "      <th>2995</th>\n",
       "      <td>NaN</td>\n",
       "      <td>23-01</td>\n",
       "      <td>1005</td>\n",
       "      <td>0</td>\n",
       "      <td>higher</td>\n",
       "      <td>higher</td>\n",
       "      <td>higher</td>\n",
       "      <td>mid</td>\n",
       "      <td>mid</td>\n",
       "      <td>mid</td>\n",
       "      <td>...</td>\n",
       "      <td>0</td>\n",
       "      <td>mid</td>\n",
       "      <td>320</td>\n",
       "      <td>50</td>\n",
       "      <td>mid</td>\n",
       "      <td>0</td>\n",
       "      <td>mid</td>\n",
       "      <td>mid</td>\n",
       "      <td>mid</td>\n",
       "      <td>4</td>\n",
       "    </tr>\n",
       "    <tr>\n",
       "      <th>2996</th>\n",
       "      <td>NaN</td>\n",
       "      <td>23-01</td>\n",
       "      <td>1012</td>\n",
       "      <td>1</td>\n",
       "      <td>mid</td>\n",
       "      <td>very_low</td>\n",
       "      <td>mid</td>\n",
       "      <td>mid</td>\n",
       "      <td>mid</td>\n",
       "      <td>mid</td>\n",
       "      <td>...</td>\n",
       "      <td>0</td>\n",
       "      <td>mid</td>\n",
       "      <td>320</td>\n",
       "      <td>50</td>\n",
       "      <td>mid</td>\n",
       "      <td>3</td>\n",
       "      <td>mid</td>\n",
       "      <td>mid</td>\n",
       "      <td>mid</td>\n",
       "      <td>4</td>\n",
       "    </tr>\n",
       "    <tr>\n",
       "      <th>2997</th>\n",
       "      <td>NaN</td>\n",
       "      <td>23-01</td>\n",
       "      <td>1005</td>\n",
       "      <td>0</td>\n",
       "      <td>very_low</td>\n",
       "      <td>very_low</td>\n",
       "      <td>very_low</td>\n",
       "      <td>higher</td>\n",
       "      <td>very_low</td>\n",
       "      <td>very_low</td>\n",
       "      <td>...</td>\n",
       "      <td>2</td>\n",
       "      <td>mid</td>\n",
       "      <td>320</td>\n",
       "      <td>50</td>\n",
       "      <td>mid</td>\n",
       "      <td>3</td>\n",
       "      <td>mid</td>\n",
       "      <td>mid</td>\n",
       "      <td>mid</td>\n",
       "      <td>4</td>\n",
       "    </tr>\n",
       "    <tr>\n",
       "      <th>2998</th>\n",
       "      <td>NaN</td>\n",
       "      <td>23-01</td>\n",
       "      <td>1005</td>\n",
       "      <td>1</td>\n",
       "      <td>very_low</td>\n",
       "      <td>very_low</td>\n",
       "      <td>very_low</td>\n",
       "      <td>mid</td>\n",
       "      <td>very_low</td>\n",
       "      <td>very_low</td>\n",
       "      <td>...</td>\n",
       "      <td>0</td>\n",
       "      <td>mid</td>\n",
       "      <td>300</td>\n",
       "      <td>50</td>\n",
       "      <td>mid</td>\n",
       "      <td>3</td>\n",
       "      <td>mid</td>\n",
       "      <td>mid</td>\n",
       "      <td>mid</td>\n",
       "      <td>4</td>\n",
       "    </tr>\n",
       "    <tr>\n",
       "      <th>2999</th>\n",
       "      <td>NaN</td>\n",
       "      <td>23-01</td>\n",
       "      <td>1005</td>\n",
       "      <td>0</td>\n",
       "      <td>very_low</td>\n",
       "      <td>very_low</td>\n",
       "      <td>very_low</td>\n",
       "      <td>mid</td>\n",
       "      <td>very_high</td>\n",
       "      <td>mid</td>\n",
       "      <td>...</td>\n",
       "      <td>0</td>\n",
       "      <td>mid</td>\n",
       "      <td>320</td>\n",
       "      <td>50</td>\n",
       "      <td>mid</td>\n",
       "      <td>3</td>\n",
       "      <td>mid</td>\n",
       "      <td>mid</td>\n",
       "      <td>mid</td>\n",
       "      <td>4</td>\n",
       "    </tr>\n",
       "  </tbody>\n",
       "</table>\n",
       "<p>6000 rows × 24 columns</p>\n",
       "</div>"
      ],
      "text/plain": [
       "      click   hour    C1 banner_pos   site_id site_domain site_category  \\\n",
       "0       0.0  23-01  1005          0    higher      higher        higher   \n",
       "1       0.0  23-01  1005          0    higher      higher        higher   \n",
       "2       0.0  23-01  1005          0    higher      higher        higher   \n",
       "3       0.0  23-01  1005          0    higher      higher        higher   \n",
       "4       0.0  23-01  1005          1  very_low    very_low      very_low   \n",
       "...     ...    ...   ...        ...       ...         ...           ...   \n",
       "2995    NaN  23-01  1005          0    higher      higher        higher   \n",
       "2996    NaN  23-01  1012          1       mid    very_low           mid   \n",
       "2997    NaN  23-01  1005          0  very_low    very_low      very_low   \n",
       "2998    NaN  23-01  1005          1  very_low    very_low      very_low   \n",
       "2999    NaN  23-01  1005          0  very_low    very_low      very_low   \n",
       "\n",
       "      app_id app_domain app_category  ... device_conn_type  C14  C15 C16  C17  \\\n",
       "0        mid        mid          mid  ...                2  mid  320  50  mid   \n",
       "1        mid        mid          mid  ...                0  mid  320  50  mid   \n",
       "2        mid        mid          mid  ...                0  mid  320  50  mid   \n",
       "3        mid        mid          mid  ...                0  mid  320  50  mid   \n",
       "4        mid        mid          mid  ...                0  mid  320  50  mid   \n",
       "...      ...        ...          ...  ...              ...  ...  ...  ..  ...   \n",
       "2995     mid        mid          mid  ...                0  mid  320  50  mid   \n",
       "2996     mid        mid          mid  ...                0  mid  320  50  mid   \n",
       "2997  higher   very_low     very_low  ...                2  mid  320  50  mid   \n",
       "2998     mid   very_low     very_low  ...                0  mid  300  50  mid   \n",
       "2999     mid  very_high          mid  ...                0  mid  320  50  mid   \n",
       "\n",
       "     C18  C19  C20  C21 weekday  \n",
       "0      0  mid  mid  mid       1  \n",
       "1      0  mid  mid  mid       1  \n",
       "2      0  mid  mid  mid       1  \n",
       "3      0  mid  mid  mid       1  \n",
       "4      0  mid  mid  mid       1  \n",
       "...   ..  ...  ...  ...     ...  \n",
       "2995   0  mid  mid  mid       4  \n",
       "2996   3  mid  mid  mid       4  \n",
       "2997   3  mid  mid  mid       4  \n",
       "2998   3  mid  mid  mid       4  \n",
       "2999   3  mid  mid  mid       4  \n",
       "\n",
       "[6000 rows x 24 columns]"
      ]
     },
     "execution_count": 17,
     "metadata": {},
     "output_type": "execute_result"
    }
   ],
   "source": [
    "def obj_clean(X):\n",
    "    def get_click_rate(x):\n",
    "        temp = train[train[X.columns[0]] == x]\n",
    "        res = round((temp.click.sum() / temp.click.count()), 3)\n",
    "        return res\n",
    "\n",
    "    def get_type(V, val):\n",
    "        very_high = val + 0.04\n",
    "        higher = val + 0.02\n",
    "        lower = val - 0.02\n",
    "        very_low = val - 0.04\n",
    "\n",
    "        vh_type = V[V > very_high].index.tolist()\n",
    "        hr_type = V[(V > higher) & (V < very_high)].index.tolist()\n",
    "        vl_type = V[V < very_low].index.tolist()\n",
    "        lr_type = V[(V < lower) & (V > very_low)].index.tolist()\n",
    "        return vh_type, hr_type, vl_type, lr_type\n",
    "\n",
    "    def clean_function(x):\n",
    "        if x in type_[0]:\n",
    "            return 'very_high'\n",
    "        elif x in type_[1]:\n",
    "            return 'higher'\n",
    "        elif x in type_[2]:\n",
    "            return 'very_low'\n",
    "        elif x in type_[3]:\n",
    "            return 'lower'\n",
    "        else:\n",
    "            return 'mid'\n",
    "\n",
    "    print('Run:', X.columns[0])\n",
    "    fq = X[X.columns[0]].value_counts()\n",
    "\n",
    "    if len(fq) > 3000:\n",
    "        fq = fq[:3000]\n",
    "\n",
    "    fq = pd.DataFrame(fq)\n",
    "    fq['new_column'] = fq.index\n",
    "    fq['click_rate'] = fq.new_column.apply(get_click_rate)\n",
    "    type_ = get_type(fq['click_rate'], df_describe.loc['mean', 'click'])\n",
    "    return X[X.columns[0]].apply(clean_function)\n",
    "\n",
    "for i in obj_features:\n",
    "    df[i] = obj_clean(df[[i]])\n",
    "\n",
    "df"
   ]
  },
  {
   "cell_type": "code",
   "execution_count": 18,
   "id": "0d238678",
   "metadata": {},
   "outputs": [
    {
     "data": {
      "image/png": "[encoded data removed]",
      "text/plain": [
       "<Figure size 432x288 with 1 Axes>"
      ]
     },
     "metadata": {
      "needs_background": "light"
     },
     "output_type": "display_data"
    },
    {
     "data": {
      "image/png": "[encoded data removed]",
      "text/plain": [
       "<Figure size 432x288 with 1 Axes>"
      ]
     },
     "metadata": {
      "needs_background": "light"
     },
     "output_type": "display_data"
    },
    {
     "data": {
      "image/png": "[encoded data removed]",
      "text/plain": [
       "<Figure size 432x288 with 1 Axes>"
      ]
     },
     "metadata": {
      "needs_background": "light"
     },
     "output_type": "display_data"
    },
    {
     "data": {
      "image/png": "[encoded data removed]",
      "text/plain": [
       "<Figure size 432x288 with 1 Axes>"
      ]
     },
     "metadata": {
      "needs_background": "light"
     },
     "output_type": "display_data"
    },
    {
     "data": {
      "image/png": "[encoded data removed]",
      "text/plain": [
       "<Figure size 432x288 with 1 Axes>"
      ]
     },
     "metadata": {
      "needs_background": "light"
     },
     "output_type": "display_data"
    },
    {
     "data": {
      "image/png": "[encoded data removed]",
      "text/plain": [
       "<Figure size 432x288 with 1 Axes>"
      ]
     },
     "metadata": {
      "needs_background": "light"
     },
     "output_type": "display_data"
    },
    {
     "data": {
      "image/png": "[encoded data removed]",
      "text/plain": [
       "<Figure size 432x288 with 1 Axes>"
      ]
     },
     "metadata": {
      "needs_background": "light"
     },
     "output_type": "display_data"
    },
    {
     "data": {
      "image/png": "[encoded data removed]",
      "text/plain": [
       "<Figure size 432x288 with 1 Axes>"
      ]
     },
     "metadata": {
      "needs_background": "light"
     },
     "output_type": "display_data"
    },
    {
     "data": {
      "image/png": "[encoded data removed]",
      "text/plain": [
       "<Figure size 432x288 with 1 Axes>"
      ]
     },
     "metadata": {
      "needs_background": "light"
     },
     "output_type": "display_data"
    },
    {
     "data": {
      "image/png": "[encoded data removed]",
      "text/plain": [
       "<Figure size 432x288 with 1 Axes>"
      ]
     },
     "metadata": {
      "needs_background": "light"
     },
     "output_type": "display_data"
    },
    {
     "data": {
      "image/png": "[encoded data removed]",
      "text/plain": [
       "<Figure size 432x288 with 1 Axes>"
      ]
     },
     "metadata": {
      "needs_background": "light"
     },
     "output_type": "display_data"
    },
    {
     "data": {
      "image/png": "[encoded data removed]",
      "text/plain": [
       "<Figure size 432x288 with 1 Axes>"
      ]
     },
     "metadata": {
      "needs_background": "light"
     },
     "output_type": "display_data"
    },
    {
     "data": {
      "image/png": "[encoded data removed]",
      "text/plain": [
       "<Figure size 432x288 with 1 Axes>"
      ]
     },
     "metadata": {
      "needs_background": "light"
     },
     "output_type": "display_data"
    },
    {
     "data": {
      "image/png": "[encoded data removed]",
      "text/plain": [
       "<Figure size 432x288 with 1 Axes>"
      ]
     },
     "metadata": {
      "needs_background": "light"
     },
     "output_type": "display_data"
    },
    {
     "data": {
      "image/png": "[encoded data removed]",
      "text/plain": [
       "<Figure size 432x288 with 1 Axes>"
      ]
     },
     "metadata": {
      "needs_background": "light"
     },
     "output_type": "display_data"
    },
    {
     "data": {
      "image/png": "[encoded data removed]",
      "text/plain": [
       "<Figure size 432x288 with 1 Axes>"
      ]
     },
     "metadata": {
      "needs_background": "light"
     },
     "output_type": "display_data"
    },
    {
     "data": {
      "image/png": "[encoded data removed]",
      "text/plain": [
       "<Figure size 432x288 with 1 Axes>"
      ]
     },
     "metadata": {
      "needs_background": "light"
     },
     "output_type": "display_data"
    },
    {
     "data": {
      "image/png": "[encoded data removed]",
      "text/plain": [
       "<Figure size 432x288 with 1 Axes>"
      ]
     },
     "metadata": {
      "needs_background": "light"
     },
     "output_type": "display_data"
    },
    {
     "data": {
      "image/png": "[encoded data removed]",
      "text/plain": [
       "<Figure size 432x288 with 1 Axes>"
      ]
     },
     "metadata": {
      "needs_background": "light"
     },
     "output_type": "display_data"
    },
    {
     "data": {
      "image/png": "[encoded data removed]",
      "text/plain": [
       "<Figure size 432x288 with 1 Axes>"
      ]
     },
     "metadata": {
      "needs_background": "light"
     },
     "output_type": "display_data"
    },
    {
     "data": {
      "image/png": "[encoded data removed]",
      "text/plain": [
       "<Figure size 432x288 with 1 Axes>"
      ]
     },
     "metadata": {
      "needs_background": "light"
     },
     "output_type": "display_data"
    },
    {
     "data": {
      "image/png": "[encoded data removed]",
      "text/plain": [
       "<Figure size 432x288 with 1 Axes>"
      ]
     },
     "metadata": {
      "needs_background": "light"
     },
     "output_type": "display_data"
    },
    {
     "data": {
      "image/png": "[encoded data removed]",
      "text/plain": [
       "<Figure size 432x288 with 1 Axes>"
      ]
     },
     "metadata": {
      "needs_background": "light"
     },
     "output_type": "display_data"
    },
    {
     "data": {
      "image/png": "[encoded data removed]",
      "text/plain": [
       "<Figure size 432x288 with 1 Axes>"
      ]
     },
     "metadata": {
      "needs_background": "light"
     },
     "output_type": "display_data"
    }
   ],
   "source": [
    "for i in df.columns:\n",
    "    sns.countplot(x = i, hue = \"click\", data = df)\n",
    "    plt.show()"
   ]
  },
  {
   "cell_type": "code",
   "execution_count": 19,
   "id": "4cbe8465",
   "metadata": {},
   "outputs": [],
   "source": [
    "df.drop(['device_id', 'C14', 'C17', 'C19', 'C20', 'C21'], axis=1, inplace=True)"
   ]
  },
  {
   "cell_type": "code",
   "execution_count": 20,
   "id": "e8ebf4ae",
   "metadata": {},
   "outputs": [],
   "source": [
    "#df = pd.get_dummies(df)"
   ]
  },
  {
   "cell_type": "code",
   "execution_count": 21,
   "id": "76f26a3a",
   "metadata": {},
   "outputs": [
    {
     "data": {
      "text/plain": [
       "3000"
      ]
     },
     "execution_count": 21,
     "metadata": {},
     "output_type": "execute_result"
    }
   ],
   "source": [
    "train.reset_index(inplace=True)\n",
    "train_len = len(train)\n",
    "train_len"
   ]
  },
  {
   "cell_type": "code",
   "execution_count": 22,
   "id": "a9ce2a71",
   "metadata": {},
   "outputs": [],
   "source": [
    "df = pd.get_dummies(df)\n",
    "train = df[:train_len]\n",
    "test = df[train_len:]"
   ]
  },
  {
   "cell_type": "code",
   "execution_count": null,
   "id": "3c354df8",
   "metadata": {},
   "outputs": [],
   "source": []
  },
  {
   "cell_type": "code",
   "execution_count": 23,
   "id": "d614904b",
   "metadata": {},
   "outputs": [
    {
     "name": "stderr",
     "output_type": "stream",
     "text": [
      "C:\\Users\\Lagartha Lothbroke\\anaconda3\\lib\\site-packages\\pandas\\core\\frame.py:4906: SettingWithCopyWarning: \n",
      "A value is trying to be set on a copy of a slice from a DataFrame\n",
      "\n",
      "See the caveats in the documentation: https://pandas.pydata.org/pandas-docs/stable/user_guide/indexing.html#returning-a-view-versus-a-copy\n",
      "  return super().drop(\n"
     ]
    }
   ],
   "source": [
    "pre_X = train[train['click'] == 0].sample(n=len(train[train['click'] == 1]), random_state=111)\n",
    "pre_X = pd.concat([pre_X, train[train['click'] == 1]]).sample(frac=1)\n",
    "pre_y = pre_X[['click']]\n",
    "pre_X.drop(['click'], axis=1, inplace=True)\n",
    "test.drop(['click'], axis=1, inplace=True)"
   ]
  },
  {
   "cell_type": "code",
   "execution_count": 24,
   "id": "394b9665",
   "metadata": {},
   "outputs": [],
   "source": [
    "pre_X_train, pre_X_test, pre_y_train, pre_y_test = train_test_split(pre_X, pre_y, test_size=0.20, stratify=pre_y, random_state=1)"
   ]
  },
  {
   "cell_type": "code",
   "execution_count": 25,
   "id": "1d414f71",
   "metadata": {},
   "outputs": [
    {
     "name": "stdout",
     "output_type": "stream",
     "text": [
      "Fitting 100 folds for each of 38 candidates, totalling 3800 fits\n"
     ]
    },
    {
     "data": {
      "text/plain": [
       "(0.8733333333333333,\n",
       " DecisionTreeClassifier(criterion='entropy', max_depth=5),\n",
       " {'criterion': 'entropy', 'max_depth': 5})"
      ]
     },
     "execution_count": 25,
     "metadata": {},
     "output_type": "execute_result"
    }
   ],
   "source": [
    "params = {\"criterion\":[\"gini\", \"entropy\"], \"max_depth\":range(1,20)}\n",
    "grid_search = GridSearchCV(DecisionTreeClassifier(), param_grid=params, scoring='roc_auc', cv=100, verbose=1, n_jobs=-1)\n",
    "grid_search.fit(pre_X_train, pre_y_train)\n",
    "grid_search.best_score_, grid_search.best_estimator_, grid_search.best_params_"
   ]
  },
  {
   "cell_type": "code",
   "execution_count": 26,
   "id": "a4c3a94f",
   "metadata": {},
   "outputs": [
    {
     "data": {
      "text/html": [
       "<div>\n",
       "<style scoped>\n",
       "    .dataframe tbody tr th:only-of-type {\n",
       "        vertical-align: middle;\n",
       "    }\n",
       "\n",
       "    .dataframe tbody tr th {\n",
       "        vertical-align: top;\n",
       "    }\n",
       "\n",
       "    .dataframe thead th {\n",
       "        text-align: right;\n",
       "    }\n",
       "</style>\n",
       "<table border=\"1\" class=\"dataframe\">\n",
       "  <thead>\n",
       "    <tr style=\"text-align: right;\">\n",
       "      <th></th>\n",
       "      <th>0</th>\n",
       "    </tr>\n",
       "  </thead>\n",
       "  <tbody>\n",
       "    <tr>\n",
       "      <th>device_model_very_low</th>\n",
       "      <td>0.377809</td>\n",
       "    </tr>\n",
       "    <tr>\n",
       "      <th>device_ip_very_low</th>\n",
       "      <td>0.265988</td>\n",
       "    </tr>\n",
       "    <tr>\n",
       "      <th>device_ip_very_high</th>\n",
       "      <td>0.095566</td>\n",
       "    </tr>\n",
       "    <tr>\n",
       "      <th>site_id_very_high</th>\n",
       "      <td>0.082711</td>\n",
       "    </tr>\n",
       "    <tr>\n",
       "      <th>site_id_very_low</th>\n",
       "      <td>0.051113</td>\n",
       "    </tr>\n",
       "    <tr>\n",
       "      <th>...</th>\n",
       "      <td>...</td>\n",
       "    </tr>\n",
       "    <tr>\n",
       "      <th>app_domain_very_high</th>\n",
       "      <td>0.000000</td>\n",
       "    </tr>\n",
       "    <tr>\n",
       "      <th>app_category_lower</th>\n",
       "      <td>0.000000</td>\n",
       "    </tr>\n",
       "    <tr>\n",
       "      <th>app_category_mid</th>\n",
       "      <td>0.000000</td>\n",
       "    </tr>\n",
       "    <tr>\n",
       "      <th>C1_1001</th>\n",
       "      <td>0.000000</td>\n",
       "    </tr>\n",
       "    <tr>\n",
       "      <th>weekday_4</th>\n",
       "      <td>0.000000</td>\n",
       "    </tr>\n",
       "  </tbody>\n",
       "</table>\n",
       "<p>74 rows × 1 columns</p>\n",
       "</div>"
      ],
      "text/plain": [
       "                              0\n",
       "device_model_very_low  0.377809\n",
       "device_ip_very_low     0.265988\n",
       "device_ip_very_high    0.095566\n",
       "site_id_very_high      0.082711\n",
       "site_id_very_low       0.051113\n",
       "...                         ...\n",
       "app_domain_very_high   0.000000\n",
       "app_category_lower     0.000000\n",
       "app_category_mid       0.000000\n",
       "C1_1001                0.000000\n",
       "weekday_4              0.000000\n",
       "\n",
       "[74 rows x 1 columns]"
      ]
     },
     "execution_count": 26,
     "metadata": {},
     "output_type": "execute_result"
    }
   ],
   "source": [
    "tree = grid_search.best_estimator_\n",
    "tree.fit(pre_X,pre_y)\n",
    "\n",
    "feature_importances = pd.DataFrame(tree.feature_importances_)\n",
    "feature_importances.index = pre_X_train.columns\n",
    "feature_importances = feature_importances.sort_values(0,ascending=False)\n",
    "feature_importances"
   ]
  },
  {
   "cell_type": "code",
   "execution_count": 27,
   "id": "984e8635",
   "metadata": {},
   "outputs": [],
   "source": [
    "pre_X_train = pre_X_train[feature_importances.index[:int(len(feature_importances)/3)]]\n",
    "pre_X_test = pre_X_test[feature_importances.index[:int(len(feature_importances)/3)]]"
   ]
  },
  {
   "cell_type": "code",
   "execution_count": 28,
   "id": "b00770d1",
   "metadata": {},
   "outputs": [
    {
     "name": "stdout",
     "output_type": "stream",
     "text": [
      "Fitting 100 folds for each of 22 candidates, totalling 2200 fits\n"
     ]
    },
    {
     "data": {
      "text/plain": [
       "(0.8847916666666668,\n",
       " DecisionTreeClassifier(criterion='entropy', max_depth=5),\n",
       " {'criterion': 'entropy', 'max_depth': 5})"
      ]
     },
     "execution_count": 28,
     "metadata": {},
     "output_type": "execute_result"
    }
   ],
   "source": [
    "params = {\"criterion\":[\"gini\", \"entropy\"], \"max_depth\":range(1,12)}\n",
    "grid_search = GridSearchCV(DecisionTreeClassifier(), param_grid=params, scoring='roc_auc', cv=100, verbose=1, n_jobs=-1)\n",
    "grid_search.fit(pre_X_train, pre_y_train)\n",
    "grid_search.best_score_, grid_search.best_estimator_, grid_search.best_params_"
   ]
  },
  {
   "cell_type": "code",
   "execution_count": 29,
   "id": "d5575aa8",
   "metadata": {},
   "outputs": [
    {
     "data": {
      "text/html": [
       "<div>\n",
       "<style scoped>\n",
       "    .dataframe tbody tr th:only-of-type {\n",
       "        vertical-align: middle;\n",
       "    }\n",
       "\n",
       "    .dataframe tbody tr th {\n",
       "        vertical-align: top;\n",
       "    }\n",
       "\n",
       "    .dataframe thead th {\n",
       "        text-align: right;\n",
       "    }\n",
       "</style>\n",
       "<table border=\"1\" class=\"dataframe\">\n",
       "  <thead>\n",
       "    <tr style=\"text-align: right;\">\n",
       "      <th></th>\n",
       "      <th>0</th>\n",
       "    </tr>\n",
       "  </thead>\n",
       "  <tbody>\n",
       "    <tr>\n",
       "      <th>device_model_very_low</th>\n",
       "      <td>0.377809</td>\n",
       "    </tr>\n",
       "    <tr>\n",
       "      <th>device_ip_very_low</th>\n",
       "      <td>0.272529</td>\n",
       "    </tr>\n",
       "    <tr>\n",
       "      <th>device_ip_very_high</th>\n",
       "      <td>0.095566</td>\n",
       "    </tr>\n",
       "    <tr>\n",
       "      <th>site_id_very_high</th>\n",
       "      <td>0.087891</td>\n",
       "    </tr>\n",
       "    <tr>\n",
       "      <th>site_id_very_low</th>\n",
       "      <td>0.051113</td>\n",
       "    </tr>\n",
       "    <tr>\n",
       "      <th>device_model_very_high</th>\n",
       "      <td>0.043831</td>\n",
       "    </tr>\n",
       "    <tr>\n",
       "      <th>device_model_lower</th>\n",
       "      <td>0.022622</td>\n",
       "    </tr>\n",
       "    <tr>\n",
       "      <th>banner_pos_0</th>\n",
       "      <td>0.019810</td>\n",
       "    </tr>\n",
       "    <tr>\n",
       "      <th>C18_2</th>\n",
       "      <td>0.007661</td>\n",
       "    </tr>\n",
       "    <tr>\n",
       "      <th>device_model_higher</th>\n",
       "      <td>0.007534</td>\n",
       "    </tr>\n",
       "    <tr>\n",
       "      <th>device_ip_mid</th>\n",
       "      <td>0.007514</td>\n",
       "    </tr>\n",
       "    <tr>\n",
       "      <th>app_id_very_high</th>\n",
       "      <td>0.006119</td>\n",
       "    </tr>\n",
       "    <tr>\n",
       "      <th>app_domain_very_low</th>\n",
       "      <td>0.000000</td>\n",
       "    </tr>\n",
       "    <tr>\n",
       "      <th>site_domain_very_high</th>\n",
       "      <td>0.000000</td>\n",
       "    </tr>\n",
       "    <tr>\n",
       "      <th>device_model_mid</th>\n",
       "      <td>0.000000</td>\n",
       "    </tr>\n",
       "    <tr>\n",
       "      <th>device_conn_type_3</th>\n",
       "      <td>0.000000</td>\n",
       "    </tr>\n",
       "    <tr>\n",
       "      <th>device_type_0</th>\n",
       "      <td>0.000000</td>\n",
       "    </tr>\n",
       "    <tr>\n",
       "      <th>device_type_1</th>\n",
       "      <td>0.000000</td>\n",
       "    </tr>\n",
       "    <tr>\n",
       "      <th>device_type_4</th>\n",
       "      <td>0.000000</td>\n",
       "    </tr>\n",
       "    <tr>\n",
       "      <th>device_type_5</th>\n",
       "      <td>0.000000</td>\n",
       "    </tr>\n",
       "    <tr>\n",
       "      <th>device_conn_type_0</th>\n",
       "      <td>0.000000</td>\n",
       "    </tr>\n",
       "    <tr>\n",
       "      <th>device_conn_type_2</th>\n",
       "      <td>0.000000</td>\n",
       "    </tr>\n",
       "    <tr>\n",
       "      <th>hour_23-01</th>\n",
       "      <td>0.000000</td>\n",
       "    </tr>\n",
       "    <tr>\n",
       "      <th>device_conn_type_5</th>\n",
       "      <td>0.000000</td>\n",
       "    </tr>\n",
       "  </tbody>\n",
       "</table>\n",
       "</div>"
      ],
      "text/plain": [
       "                               0\n",
       "device_model_very_low   0.377809\n",
       "device_ip_very_low      0.272529\n",
       "device_ip_very_high     0.095566\n",
       "site_id_very_high       0.087891\n",
       "site_id_very_low        0.051113\n",
       "device_model_very_high  0.043831\n",
       "device_model_lower      0.022622\n",
       "banner_pos_0            0.019810\n",
       "C18_2                   0.007661\n",
       "device_model_higher     0.007534\n",
       "device_ip_mid           0.007514\n",
       "app_id_very_high        0.006119\n",
       "app_domain_very_low     0.000000\n",
       "site_domain_very_high   0.000000\n",
       "device_model_mid        0.000000\n",
       "device_conn_type_3      0.000000\n",
       "device_type_0           0.000000\n",
       "device_type_1           0.000000\n",
       "device_type_4           0.000000\n",
       "device_type_5           0.000000\n",
       "device_conn_type_0      0.000000\n",
       "device_conn_type_2      0.000000\n",
       "hour_23-01              0.000000\n",
       "device_conn_type_5      0.000000"
      ]
     },
     "execution_count": 29,
     "metadata": {},
     "output_type": "execute_result"
    }
   ],
   "source": [
    "pre_X = pre_X[feature_importances.index[:int(len(feature_importances)/3)]]\n",
    "\n",
    "tree = grid_search.best_estimator_\n",
    "tree.fit(pre_X,pre_y)\n",
    "feature_importances = pd.DataFrame(tree.feature_importances_)\n",
    "feature_importances.index = pre_X_train.columns\n",
    "feature_importances = feature_importances.sort_values(0,ascending=False)\n",
    "feature_importances"
   ]
  },
  {
   "cell_type": "code",
   "execution_count": 30,
   "id": "57e57d6e",
   "metadata": {},
   "outputs": [],
   "source": [
    "feature_len = len(feature_importances[feature_importances[feature_importances.columns[0]] > 0.005])\n",
    "\n",
    "y = train[['click']]\n",
    "X = train[feature_importances[:feature_len].index]\n",
    "test = test[feature_importances[:feature_len].index]"
   ]
  },
  {
   "cell_type": "code",
   "execution_count": 31,
   "id": "da3dc73e",
   "metadata": {},
   "outputs": [],
   "source": [
    "import xgboost as xgb\n",
    "from sklearn.metrics import roc_auc_score, confusion_matrix\n",
    "import matplotlib.pyplot as plt\n",
    "import numpy as np"
   ]
  },
  {
   "cell_type": "code",
   "execution_count": 32,
   "id": "bc8b488c",
   "metadata": {},
   "outputs": [
    {
     "name": "stdout",
     "output_type": "stream",
     "text": [
      "[11:03:44] WARNING: C:\\buildkite-agent\\builds\\buildkite-windows-cpu-autoscaling-group-i-07593ffd91cd9da33-1\\xgboost\\xgboost-ci-windows\\src\\learner.cc:767: \n",
      "Parameters: { \"n_estimators\" } are not used.\n",
      "\n",
      "ROC AUC Score: 91.30019709288003 %\n"
     ]
    },
    {
     "data": {
      "image/png": "[encoded data removed]",
      "text/plain": [
       "<Figure size 180x180 with 1 Axes>"
      ]
     },
     "metadata": {
      "needs_background": "light"
     },
     "output_type": "display_data"
    }
   ],
   "source": [
    "y_np = np.array(y) # Convert the target variable to a numpy array\n",
    "dtrain = xgb.DMatrix(X, label=y_np)# Create an XGBoost DMatrix\n",
    "params = {\n",
    "    'tree_method': 'hist',\n",
    "    'n_jobs': -1,\n",
    "    'n_estimators': 500,\n",
    "    'max_depth': 11\n",
    "} # Define the parameters for the XGBoost model\n",
    "model = xgb.train(params, dtrain) # Train the XGBoost model\n",
    "y_pred = model.predict(dtrain) # Make predictions on the training data\n",
    "y_pred_binary = np.round(y_pred) # Convert the probabilities to binary predictions\n",
    "roc_auc = roc_auc_score(y_np, y_pred)# Calculate and print the ROC AUC score\n",
    "print(\"ROC AUC Score:\", roc_auc * 100, \"%\")\n",
    "confmat = confusion_matrix(y_np, y_pred_binary, labels=[0, 1]) # Create the confusion matrix\n",
    "fig, ax = plt.subplots(figsize=(2.5, 2.5)) # Plot the confusion matrix\n",
    "ax.matshow(confmat, cmap=plt.cm.Blues, alpha=0.3)\n",
    "for i in range(confmat.shape[0]):\n",
    "    for j in range(confmat.shape[1]):\n",
    "        ax.text(x=j, y=i, s=confmat[i, j], va='center', ha='center')\n",
    "plt.xlabel('Predicted label')\n",
    "plt.ylabel('True label')\n",
    "plt.tight_layout()\n",
    "plt.show()"
   ]
  },
  {
   "cell_type": "code",
   "execution_count": 33,
   "id": "66963f8c",
   "metadata": {},
   "outputs": [],
   "source": [
    "X_train, X_test, y_train, y_test = train_test_split(X, y, test_size=0.2, random_state=42)"
   ]
  },
  {
   "cell_type": "code",
   "execution_count": 34,
   "id": "efc1c6bf",
   "metadata": {},
   "outputs": [],
   "source": [
    "from sklearn.linear_model import LogisticRegression"
   ]
  },
  {
   "cell_type": "code",
   "execution_count": 35,
   "id": "ae0619ab",
   "metadata": {},
   "outputs": [],
   "source": [
    "model = LogisticRegression()"
   ]
  },
  {
   "cell_type": "code",
   "execution_count": 36,
   "id": "477abc24",
   "metadata": {},
   "outputs": [
    {
     "name": "stderr",
     "output_type": "stream",
     "text": [
      "C:\\Users\\Lagartha Lothbroke\\anaconda3\\lib\\site-packages\\sklearn\\utils\\validation.py:1143: DataConversionWarning: A column-vector y was passed when a 1d array was expected. Please change the shape of y to (n_samples, ), for example using ravel().\n",
      "  y = column_or_1d(y, warn=True)\n"
     ]
    },
    {
     "data": {
      "text/html": [
       "<style>#sk-container-id-1 {color: black;background-color: white;}#sk-container-id-1 pre{padding: 0;}#sk-container-id-1 div.sk-toggleable {background-color: white;}#sk-container-id-1 label.sk-toggleable__label {cursor: pointer;display: block;width: 100%;margin-bottom: 0;padding: 0.3em;box-sizing: border-box;text-align: center;}#sk-container-id-1 label.sk-toggleable__label-arrow:before {content: \"▸\";float: left;margin-right: 0.25em;color: #696969;}#sk-container-id-1 label.sk-toggleable__label-arrow:hover:before {color: black;}#sk-container-id-1 div.sk-estimator:hover label.sk-toggleable__label-arrow:before {color: black;}#sk-container-id-1 div.sk-toggleable__content {max-height: 0;max-width: 0;overflow: hidden;text-align: left;background-color: #f0f8ff;}#sk-container-id-1 div.sk-toggleable__content pre {margin: 0.2em;color: black;border-radius: 0.25em;background-color: #f0f8ff;}#sk-container-id-1 input.sk-toggleable__control:checked~div.sk-toggleable__content {max-height: 200px;max-width: 100%;overflow: auto;}#sk-container-id-1 input.sk-toggleable__control:checked~label.sk-toggleable__label-arrow:before {content: \"▾\";}#sk-container-id-1 div.sk-estimator input.sk-toggleable__control:checked~label.sk-toggleable__label {background-color: #d4ebff;}#sk-container-id-1 div.sk-label input.sk-toggleable__control:checked~label.sk-toggleable__label {background-color: #d4ebff;}#sk-container-id-1 input.sk-hidden--visually {border: 0;clip: rect(1px 1px 1px 1px);clip: rect(1px, 1px, 1px, 1px);height: 1px;margin: -1px;overflow: hidden;padding: 0;position: absolute;width: 1px;}#sk-container-id-1 div.sk-estimator {font-family: monospace;background-color: #f0f8ff;border: 1px dotted black;border-radius: 0.25em;box-sizing: border-box;margin-bottom: 0.5em;}#sk-container-id-1 div.sk-estimator:hover {background-color: #d4ebff;}#sk-container-id-1 div.sk-parallel-item::after {content: \"\";width: 100%;border-bottom: 1px solid gray;flex-grow: 1;}#sk-container-id-1 div.sk-label:hover label.sk-toggleable__label {background-color: #d4ebff;}#sk-container-id-1 div.sk-serial::before {content: \"\";position: absolute;border-left: 1px solid gray;box-sizing: border-box;top: 0;bottom: 0;left: 50%;z-index: 0;}#sk-container-id-1 div.sk-serial {display: flex;flex-direction: column;align-items: center;background-color: white;padding-right: 0.2em;padding-left: 0.2em;position: relative;}#sk-container-id-1 div.sk-item {position: relative;z-index: 1;}#sk-container-id-1 div.sk-parallel {display: flex;align-items: stretch;justify-content: center;background-color: white;position: relative;}#sk-container-id-1 div.sk-item::before, #sk-container-id-1 div.sk-parallel-item::before {content: \"\";position: absolute;border-left: 1px solid gray;box-sizing: border-box;top: 0;bottom: 0;left: 50%;z-index: -1;}#sk-container-id-1 div.sk-parallel-item {display: flex;flex-direction: column;z-index: 1;position: relative;background-color: white;}#sk-container-id-1 div.sk-parallel-item:first-child::after {align-self: flex-end;width: 50%;}#sk-container-id-1 div.sk-parallel-item:last-child::after {align-self: flex-start;width: 50%;}#sk-container-id-1 div.sk-parallel-item:only-child::after {width: 0;}#sk-container-id-1 div.sk-dashed-wrapped {border: 1px dashed gray;margin: 0 0.4em 0.5em 0.4em;box-sizing: border-box;padding-bottom: 0.4em;background-color: white;}#sk-container-id-1 div.sk-label label {font-family: monospace;font-weight: bold;display: inline-block;line-height: 1.2em;}#sk-container-id-1 div.sk-label-container {text-align: center;}#sk-container-id-1 div.sk-container {/* jupyter's `normalize.less` sets `[hidden] { display: none; }` but bootstrap.min.css set `[hidden] { display: none !important; }` so we also need the `!important` here to be able to override the default hidden behavior on the sphinx rendered scikit-learn.org. See: https://github.com/scikit-learn/scikit-learn/issues/21755 */display: inline-block !important;position: relative;}#sk-container-id-1 div.sk-text-repr-fallback {display: none;}</style><div id=\"sk-container-id-1\" class=\"sk-top-container\"><div class=\"sk-text-repr-fallback\"><pre>LogisticRegression()</pre><b>In a Jupyter environment, please rerun this cell to show the HTML representation or trust the notebook. <br />On GitHub, the HTML representation is unable to render, please try loading this page with nbviewer.org.</b></div><div class=\"sk-container\" hidden><div class=\"sk-item\"><div class=\"sk-estimator sk-toggleable\"><input class=\"sk-toggleable__control sk-hidden--visually\" id=\"sk-estimator-id-1\" type=\"checkbox\" checked><label for=\"sk-estimator-id-1\" class=\"sk-toggleable__label sk-toggleable__label-arrow\">LogisticRegression</label><div class=\"sk-toggleable__content\"><pre>LogisticRegression()</pre></div></div></div></div></div>"
      ],
      "text/plain": [
       "LogisticRegression()"
      ]
     },
     "execution_count": 36,
     "metadata": {},
     "output_type": "execute_result"
    }
   ],
   "source": [
    "model.fit(X_train, y_train)"
   ]
  },
  {
   "cell_type": "code",
   "execution_count": 37,
   "id": "0ced0892",
   "metadata": {},
   "outputs": [],
   "source": [
    "from sklearn.metrics import accuracy_score"
   ]
  },
  {
   "cell_type": "code",
   "execution_count": 38,
   "id": "a58c260d",
   "metadata": {},
   "outputs": [
    {
     "name": "stdout",
     "output_type": "stream",
     "text": [
      "Accuracy: 0.86\n"
     ]
    }
   ],
   "source": [
    "y_pred = model.predict(X_test)\n",
    "accuracy = accuracy_score(y_test, y_pred)\n",
    "print(\"Accuracy:\", accuracy)"
   ]
  },
  {
   "cell_type": "code",
   "execution_count": 39,
   "id": "a82cd59d",
   "metadata": {},
   "outputs": [
    {
     "data": {
      "image/png": "[encoded data removed]",
      "text/plain": [
       "<Figure size 432x288 with 2 Axes>"
      ]
     },
     "metadata": {
      "needs_background": "light"
     },
     "output_type": "display_data"
    },
    {
     "data": {
      "text/plain": [
       "<Figure size 6000x6000 with 0 Axes>"
      ]
     },
     "metadata": {},
     "output_type": "display_data"
    }
   ],
   "source": [
    "import seaborn as sns\n",
    "sns.heatmap(confmat,annot=True,fmt='',xticklabels=[0,1],yticklabels=[0,1],linewidth=.5, cmap=sns.cubehelix_palette(as_cmap=True))\n",
    "\n",
    "plt.xlabel('Predicted label',fontsize=15)\n",
    "plt.ylabel('True label',fontsize=15)\n",
    "plt.title('Confusion Matrix',fontsize=20)\n",
    "plt.figure(figsize=(30.0,30.0),dpi=200)\n",
    "plt.tight_layout()\n",
    "plt.show()"
   ]
  },
  {
   "cell_type": "code",
   "execution_count": 41,
   "id": "7000bac2",
   "metadata": {},
   "outputs": [
    {
     "data": {
      "image/png": "[encoded data removed]",
      "text/plain": [
       "<Figure size 720x504 with 1 Axes>"
      ]
     },
     "metadata": {
      "needs_background": "light"
     },
     "output_type": "display_data"
    }
   ],
   "source": [
    "from sklearn.metrics import roc_curve, auc\n",
    "fpr, tpr, _ = roc_curve(y_test, y_pred)\n",
    "roc_auc = auc(fpr, tpr)\n",
    "plt.figure(figsize=(10, 7))\n",
    "plt.plot(fpr, tpr, color='blue', lw=2, label='XGBoost (AUC = %0.2f)' % roc_auc)\n",
    "plt.plot([0, 1], [0, 1], color='navy', lw=2, linestyle='--')\n",
    "plt.xlim([0.0, 1.0])\n",
    "plt.ylim([0.0, 1.05])\n",
    "plt.xlabel('False Positive Rate', fontsize=15)\n",
    "plt.ylabel('True Positive Rate', fontsize=15)\n",
    "plt.title('Receiver Operating Characteristic (ROC) Curve', fontsize=20)\n",
    "plt.legend(loc=\"lower right\")\n",
    "plt.show()"
   ]
  },
  {
   "cell_type": "code",
   "execution_count": 42,
   "id": "3648d131",
   "metadata": {},
   "outputs": [
    {
     "name": "stdout",
     "output_type": "stream",
     "text": [
      "Sample size: 6000\n"
     ]
    }
   ],
   "source": [
    "sample_size = df.shape[0]\n",
    "print(\"Sample size:\", sample_size)"
   ]
  },
  {
   "cell_type": "code",
   "execution_count": null,
   "id": "26eb53d4",
   "metadata": {},
   "outputs": [],
   "source": []
  }
 ],
 "metadata": {
  "kernelspec": {
   "display_name": "Python 3 (ipykernel)",
   "language": "python",
   "name": "python3"
  },
  "language_info": {
   "codemirror_mode": {
    "name": "ipython",
    "version": 3
   },
   "file_extension": ".py",
   "mimetype": "text/x-python",
   "name": "python",
   "nbconvert_exporter": "python",
   "pygments_lexer": "ipython3",
   "version": "3.9.7"
  }
 },
 "nbformat": 4,
 "nbformat_minor": 5
}
