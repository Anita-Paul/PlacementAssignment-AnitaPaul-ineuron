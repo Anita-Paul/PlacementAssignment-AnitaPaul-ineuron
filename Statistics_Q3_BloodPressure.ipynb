{
 "cells": [
  {
   "cell_type": "code",
   "execution_count": 1,
   "id": "351bebca",
   "metadata": {},
   "outputs": [],
   "source": [
    "import pandas as pd\n",
    "import numpy as np\n",
    "import scipy.stats as stats\n",
    "import matplotlib.pyplot as plt"
   ]
  },
  {
   "cell_type": "code",
   "execution_count": 2,
   "id": "60fd539c",
   "metadata": {},
   "outputs": [],
   "source": [
    "data = pd.read_csv('data_BloodPressure.csv')"
   ]
  },
  {
   "cell_type": "code",
   "execution_count": 3,
   "id": "f9968afd",
   "metadata": {},
   "outputs": [
    {
     "name": "stdout",
     "output_type": "stream",
     "text": [
      "<class 'pandas.core.frame.DataFrame'>\n",
      "RangeIndex: 100 entries, 0 to 99\n",
      "Data columns (total 3 columns):\n",
      " #   Column                         Non-Null Count  Dtype\n",
      "---  ------                         --------------  -----\n",
      " 0   Patient ID                     100 non-null    int64\n",
      " 1    Blood Pressure Before (mmHg)  100 non-null    int64\n",
      " 2    Blood Pressure After (mmHg)   100 non-null    int64\n",
      "dtypes: int64(3)\n",
      "memory usage: 2.5 KB\n"
     ]
    }
   ],
   "source": [
    "data.info()"
   ]
  },
  {
   "cell_type": "code",
   "execution_count": 4,
   "id": "aba5a426",
   "metadata": {},
   "outputs": [
    {
     "data": {
      "text/plain": [
       "Patient ID                       0\n",
       " Blood Pressure Before (mmHg)    0\n",
       " Blood Pressure After (mmHg)     0\n",
       "dtype: int64"
      ]
     },
     "execution_count": 4,
     "metadata": {},
     "output_type": "execute_result"
    }
   ],
   "source": [
    "data.isnull().sum()"
   ]
  },
  {
   "cell_type": "code",
   "execution_count": 5,
   "id": "7836f1e2",
   "metadata": {},
   "outputs": [
    {
     "data": {
      "text/plain": [
       "0     False\n",
       "1     False\n",
       "2     False\n",
       "3     False\n",
       "4     False\n",
       "      ...  \n",
       "95    False\n",
       "96    False\n",
       "97    False\n",
       "98    False\n",
       "99    False\n",
       "Length: 100, dtype: bool"
      ]
     },
     "execution_count": 5,
     "metadata": {},
     "output_type": "execute_result"
    }
   ],
   "source": [
    "data.duplicated()"
   ]
  },
  {
   "cell_type": "code",
   "execution_count": 6,
   "id": "9d0ddfe2",
   "metadata": {},
   "outputs": [
    {
     "data": {
      "text/plain": [
       "Index(['Patient ID', ' Blood Pressure Before (mmHg)',\n",
       "       ' Blood Pressure After (mmHg)'],\n",
       "      dtype='object')"
      ]
     },
     "execution_count": 6,
     "metadata": {},
     "output_type": "execute_result"
    }
   ],
   "source": [
    "data.columns"
   ]
  },
  {
   "cell_type": "code",
   "execution_count": 9,
   "id": "960cb8e0",
   "metadata": {},
   "outputs": [],
   "source": [
    "data.columns = data.columns.str.strip()"
   ]
  },
  {
   "cell_type": "code",
   "execution_count": 10,
   "id": "27df2b0d",
   "metadata": {},
   "outputs": [],
   "source": [
    "before_bp = data['Blood Pressure Before (mmHg)']\n",
    "after_bp = data['Blood Pressure After (mmHg)']"
   ]
  },
  {
   "cell_type": "markdown",
   "id": "ca528300",
   "metadata": {},
   "source": [
    "# a. Measure the dispersion in both and interpret the results."
   ]
  },
  {
   "cell_type": "code",
   "execution_count": 11,
   "id": "30744d9e",
   "metadata": {},
   "outputs": [
    {
     "name": "stdout",
     "output_type": "stream",
     "text": [
      "Dispersion in 'Blood Pressure Before': 43.10189999999998\n",
      "Dispersion in 'Blood Pressure After': 46.97040000000002\n"
     ]
    }
   ],
   "source": [
    "dispersion_before = np.var(before_bp)\n",
    "dispersion_after = np.var(after_bp)\n",
    "print(\"Dispersion in 'Blood Pressure Before':\", dispersion_before)\n",
    "print(\"Dispersion in 'Blood Pressure After':\", dispersion_after)"
   ]
  },
  {
   "cell_type": "markdown",
   "id": "2db2d322",
   "metadata": {},
   "source": [
    "# b. Calculate mean and 5% confidence interval and plot it in a graph"
   ]
  },
  {
   "cell_type": "code",
   "execution_count": 12,
   "id": "23831db6",
   "metadata": {},
   "outputs": [
    {
     "name": "stdout",
     "output_type": "stream",
     "text": [
      "Mean 'Blood Pressure Before': 133.91\n",
      "Confidence Interval for 'Blood Pressure Before' (95%): (132.60075849172767, 135.21924150827232)\n"
     ]
    }
   ],
   "source": [
    "mean_before = np.mean(before_bp)\n",
    "confidence_interval_before = stats.t.interval(0.95, len(before_bp)-1, loc=mean_before, scale=stats.sem(before_bp))\n",
    "print(\"Mean 'Blood Pressure Before':\", mean_before)\n",
    "print(\"Confidence Interval for 'Blood Pressure Before' (95%):\", confidence_interval_before)"
   ]
  },
  {
   "cell_type": "markdown",
   "id": "748b0d3c",
   "metadata": {},
   "source": [
    "# c. Calculate the Mean absolute deviation and Standard deviation and interpret the results."
   ]
  },
  {
   "cell_type": "code",
   "execution_count": 13,
   "id": "7ad9f91b",
   "metadata": {},
   "outputs": [
    {
     "data": {
      "image/png": "[encoded data removed]",
      "text/plain": [
       "<Figure size 432x288 with 1 Axes>"
      ]
     },
     "metadata": {
      "needs_background": "light"
     },
     "output_type": "display_data"
    }
   ],
   "source": [
    "# Plot the mean and confidence interval for 'Blood Pressure Before'\n",
    "plt.errorbar(1, mean_before, yerr=(confidence_interval_before[1] - mean_before), fmt='o', label='Blood Pressure Before')\n",
    "plt.xticks([])\n",
    "plt.ylabel('Mean Blood Pressure (mmHg)')\n",
    "plt.legend()\n",
    "plt.show()"
   ]
  },
  {
   "cell_type": "code",
   "execution_count": 14,
   "id": "264174dd",
   "metadata": {},
   "outputs": [
    {
     "name": "stdout",
     "output_type": "stream",
     "text": [
      "Mean Absolute Deviation of 'Blood Pressure After': 5.9\n",
      "Standard Deviation of 'Blood Pressure After': 6.853495458523338\n"
     ]
    }
   ],
   "source": [
    "# Calculate the mean absolute deviation and standard deviation for 'Blood Pressure After'\n",
    "mad_after = np.mean(np.abs(after_bp - np.mean(after_bp)))\n",
    "std_after = np.std(after_bp)\n",
    "print(\"Mean Absolute Deviation of 'Blood Pressure After':\", mad_after)\n",
    "print(\"Standard Deviation of 'Blood Pressure After':\", std_after)"
   ]
  },
  {
   "cell_type": "markdown",
   "id": "66901caa",
   "metadata": {},
   "source": [
    "# d. Calculate the correlation coefficient and check the significance of it at 1% level of significance."
   ]
  },
  {
   "cell_type": "code",
   "execution_count": 15,
   "id": "374186c2",
   "metadata": {},
   "outputs": [
    {
     "name": "stdout",
     "output_type": "stream",
     "text": [
      "Correlation Coefficient: 0.9779485966556026\n",
      "p-value: 1.8097381433037623e-68\n",
      "The correlation coefficient is significant at 1% level of significance.\n"
     ]
    }
   ],
   "source": [
    "correlation_coef, p_value = stats.pearsonr(before_bp, after_bp)\n",
    "print(\"Correlation Coefficient:\", correlation_coef)\n",
    "print(\"p-value:\", p_value)\n",
    "if p_value < 0.01:\n",
    "    print(\"The correlation coefficient is significant at 1% level of significance.\")\n",
    "else:\n",
    "    print(\"The correlation coefficient is not significant at 1% level of significance.\")"
   ]
  },
  {
   "cell_type": "code",
   "execution_count": null,
   "id": "f7a2c4db",
   "metadata": {},
   "outputs": [],
   "source": []
  }
 ],
 "metadata": {
  "kernelspec": {
   "display_name": "Python 3 (ipykernel)",
   "language": "python",
   "name": "python3"
  },
  "language_info": {
   "codemirror_mode": {
    "name": "ipython",
    "version": 3
   },
   "file_extension": ".py",
   "mimetype": "text/x-python",
   "name": "python",
   "nbconvert_exporter": "python",
   "pygments_lexer": "ipython3",
   "version": "3.9.7"
  }
 },
 "nbformat": 4,
 "nbformat_minor": 5
}
